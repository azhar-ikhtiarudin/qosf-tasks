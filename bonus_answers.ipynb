{
 "cells": [
  {
   "cell_type": "markdown",
   "metadata": {},
   "source": [
    "### Bonus Question"
   ]
  },
  {
   "cell_type": "markdown",
   "metadata": {},
   "source": [
    "The circuit used as a case study in this question is also similar to the one in the main questions, specifically in the case of 3 qubits. The circuit is drawn below:"
   ]
  },
  {
   "attachments": {
    "image.png": {
     "image/png": "[encoded data removed]"
    }
   },
   "cell_type": "markdown",
   "metadata": {},
   "source": [
    "![image.png](attachment:image.png)"
   ]
  },
  {
   "cell_type": "markdown",
   "metadata": {},
   "source": [
    "### 1. Sample final states in the statevector or tensor representations"
   ]
  },
  {
   "cell_type": "markdown",
   "metadata": {},
   "source": [
    "\n",
    "Sampling final will apply quantum measurement to the state of a qubit. This measurement typically projects the state onto the computational basis states, which are \\( |0\\rangle \\) and \\( |1\\rangle \\). The corresponding projectors for these states are:\n",
    "\n",
    "\\begin{align*}\n",
    "    \\text{Projector for } |0\\rangle: & \\quad P_0 = |0\\rangle \\langle 0| = \\begin{bmatrix} 1 & 0 \\\\ 0 & 0 \\end{bmatrix} \\\\\n",
    "    \\text{Projector for } |1\\rangle: & \\quad P_1 = |1\\rangle \\langle 1| = \\begin{bmatrix} 0 & 0 \\\\ 0 & 1 \\end{bmatrix}\n",
    "\\end{align*}\n",
    "\n",
    "When we measure a qubit, we apply one of these projectors. The measurement outcome (either $ |0\\rangle $ or $ |1\\rangle $) depends on the probabilities derived from the state's amplitudes. After applying a projector, we normalize the resulting state to reflect the new state of the qubit after measurement."
   ]
  },
  {
   "cell_type": "code",
   "execution_count": 156,
   "metadata": {},
   "outputs": [],
   "source": [
    "import time\n",
    "import numpy as np\n",
    "from scipy.linalg import norm\n",
    "\n",
    "# Define projectors for |0⟩ and |1⟩\n",
    "projectors = [np.array([[1, 0], [0, 0]]), np.array([[0, 0], [0, 1]])]"
   ]
  },
  {
   "cell_type": "markdown",
   "metadata": {},
   "source": [
    "To determine the outcome of a measurement, first calculate the probabilities of obtaining each state. For example, for a qubit in the state \n",
    "\n",
    "$$|\\psi\\rangle = \\alpha |0\\rangle + \\beta |1\\rangle,$$\n",
    "\n",
    "the probabilities of measuring $|0\\rangle$ and $|1\\rangle$ are calculated using the projectors $P_0$ and $P_1$:\n",
    "\n",
    "$$P(0) = \\langle \\psi | P_0 | \\psi \\rangle = |\\alpha|^2,$$\n",
    "\n",
    "$$P(1) = \\langle \\psi | P_1 | \\psi \\rangle = |\\beta|^2.$$\n"
   ]
  },
  {
   "cell_type": "markdown",
   "metadata": {},
   "source": [
    "Once the probabilities are determined, we can measure the qubit and obtain further results. "
   ]
  },
  {
   "cell_type": "markdown",
   "metadata": {},
   "source": [
    "#### 1.a Custom Simulator Sampler "
   ]
  },
  {
   "cell_type": "code",
   "execution_count": 157,
   "metadata": {},
   "outputs": [],
   "source": [
    "H_gate = 1/np.sqrt(2)*np.array([[1,1],\n",
    "                    [1,-1]])\n",
    "\n",
    "X_gate = np.array([[0,1],\n",
    "                   [1,0]])\n",
    "\n",
    "CNOT_gate = np.array([[1,0,0,0],\n",
    "                    [0,1,0,0],\n",
    "                    [0,0,0,1],\n",
    "                    [0,0,1,0]]).reshape(2,2,2,2)\n",
    "\n",
    "def apply_single_qubit_gate(state, gate, target_qubit):\n",
    "\n",
    "    psi_updated = np.tensordot(gate, state, axes=(1,target_qubit))\n",
    "    psi_updated = np.moveaxis(psi_updated, 0, target_qubit)\n",
    "\n",
    "    return psi_updated\n",
    "\n",
    "def apply_cnot_gate(state, target_qubit, control_qubit):\n",
    "\n",
    "    psi_updated = np.tensordot(CNOT_gate, state, ((2,3), (control_qubit, target_qubit)))\n",
    "    psi_updated = np.moveaxis(state, (0,1), (control_qubit, target_qubit))\n",
    "\n",
    "    return psi_updated\n",
    "\n",
    "def quantum_simulator(N):\n",
    "    \n",
    "    start_time = time.time()\n",
    "\n",
    "    psi = np.zeros((2,)*N)\n",
    "    psi[(0,)*N] = 1 #initiate example state: |000...001> \n",
    "    \n",
    "    for i in range(N): # apply the gate for each qubit\n",
    "        psi = apply_single_qubit_gate(psi, X_gate, i)\n",
    "        psi = apply_single_qubit_gate(psi, H_gate, i)\n",
    "    \n",
    "    psi = apply_cnot_gate(psi, N-1, 0)\n",
    "    \n",
    "    end_time = time.time()\n",
    "    runtime = end_time - start_time\n",
    "\n",
    "    result = psi\n",
    "    \n",
    "    return result, runtime\n"
   ]
  },
  {
   "cell_type": "code",
   "execution_count": 158,
   "metadata": {},
   "outputs": [
    {
     "data": {
      "text/plain": [
       "array([[[ 0.35355339, -0.35355339],\n",
       "        [-0.35355339,  0.35355339]],\n",
       "\n",
       "       [[-0.35355339,  0.35355339],\n",
       "        [ 0.35355339, -0.35355339]]])"
      ]
     },
     "execution_count": 158,
     "metadata": {},
     "output_type": "execute_result"
    }
   ],
   "source": [
    "N_qubit = 3\n",
    "result, runtime = quantum_simulator(N_qubit)\n",
    "result"
   ]
  },
  {
   "cell_type": "code",
   "execution_count": 239,
   "metadata": {},
   "outputs": [
    {
     "name": "stdout",
     "output_type": "stream",
     "text": [
      "Measurement result of qubit-0: 1\n",
      "State after measurement: [ 0.   0.   0.   0.  -0.5  0.5  0.5 -0.5]\n"
     ]
    }
   ],
   "source": [
    "# Project state onto |0⟩ or |1⟩ for qubit i\n",
    "def project(i, j, state):\n",
    "    projected = np.tensordot(projectors[j], state, (1, i))\n",
    "    return np.moveaxis(projected, 0, i)\n",
    "\n",
    "\n",
    "# Measure qubit\n",
    "def measure(i, psi):\n",
    "    # Project onto |0⟩ for qubit i and calculate the probability of measuring |0⟩\n",
    "    projected_0 = project(i, 0, psi)\n",
    "    prob_0 = norm(projected_0.flatten())**2  \n",
    "\n",
    "    if np.random.random() < prob_0:\n",
    "        psi = projected_0 / norm(projected_0)  \n",
    "        return 0, psi\n",
    "    else:\n",
    "        projected_1 = project(i, 1, psi)\n",
    "        psi = projected_1 / norm(projected_1)  \n",
    "        return 1, psi\n",
    "\n",
    "# Measure the first qubit\n",
    "outcome, state = measure(0, result)\n",
    "print(\"Measurement result of qubit-0:\", outcome)\n",
    "print(\"State after measurement:\", state.flatten())"
   ]
  },
  {
   "cell_type": "code",
   "execution_count": 252,
   "metadata": {},
   "outputs": [
    {
     "name": "stdout",
     "output_type": "stream",
     "text": [
      "Measurement Results:\n",
      "0100001111100010110100000111000110001011111101000110110001000010100110100011001110101101101111100111\n",
      "\n",
      "Probability of |0>: 0.49\n",
      "\n",
      "Probability of |1>: 0.51\n"
     ]
    }
   ],
   "source": [
    "count_0 = 0 # count of measurement outcome 0\n",
    "count_1 = 0 # count of measurement outcome 1\n",
    "N_qubit = 3 # Number of qubits\n",
    "shots = 100\n",
    "\n",
    "print(\"Measurement Results:\")\n",
    "for i in range(shots):\n",
    "    state, runtime = quantum_simulator(N_qubit)\n",
    "    outcome, state = measure(0, state)\n",
    "    print(outcome, end='')\n",
    "\n",
    "    if outcome == 0:\n",
    "        count_0 += 1\n",
    "    else:\n",
    "        count_1 += 1\n",
    "\n",
    "prob_0 = count_0/shots\n",
    "prob_1 = count_1/shots\n",
    "\n",
    "print(\"\\n\\nProbability of |0>:\", prob_0)\n",
    "print(\"\\nProbability of |1>:\", prob_1)"
   ]
  },
  {
   "cell_type": "markdown",
   "metadata": {},
   "source": [
    "#### 1.b Qiskit Simulator Sampler Results"
   ]
  },
  {
   "cell_type": "code",
   "execution_count": 333,
   "metadata": {},
   "outputs": [
    {
     "name": "stdout",
     "output_type": "stream",
     "text": [
      "State of the first qubit in circuit: 1 \n",
      "\n",
      "\n"
     ]
    }
   ],
   "source": [
    "from qiskit.primitives import StatevectorEstimator\n",
    "from qiskit_ibm_runtime import SamplerV2, EstimatorV2\n",
    "from qiskit_aer import AerSimulator\n",
    "from qiskit import QuantumCircuit, ClassicalRegister, QuantumRegister\n",
    "from qiskit.quantum_info import SparsePauliOp\n",
    "\n",
    "def qiskitSampler(verbose=False):\n",
    "    qr = QuantumRegister(3, name='q')\n",
    "    cr = ClassicalRegister(1, name='reg_classic')\n",
    "\n",
    "    qc = QuantumCircuit(qr,cr)\n",
    "    qc.x([0,1,2])\n",
    "    qc.h([0,1,2])\n",
    "    qc.cx(0,2)\n",
    "    qc.measure(0, cr)\n",
    "\n",
    "    sampler = SamplerV2(backend=AerSimulator())\n",
    "\n",
    "    job = sampler.run([(qc, None, 100)])\n",
    "    pub_result = job.result()[0]\n",
    "    state = int(list(pub_result.data.reg_classic.get_counts(0).keys())[0])\n",
    "    if verbose:\n",
    "        print(f\"State of the first qubit in circuit: {state} \\n\")\n",
    "    return state\n",
    "\n",
    "qiskitSampler(True)\n",
    "print('')"
   ]
  },
  {
   "cell_type": "code",
   "execution_count": 345,
   "metadata": {},
   "outputs": [
    {
     "name": "stdout",
     "output_type": "stream",
     "text": [
      "1111010000000010100001110000010101101110100101101000101110101100011110101010110010001111011011010100\n",
      "\n",
      "Probability of |0> in the first qubit: 0.51\n",
      "\n",
      "Probability of |1> in the first qubit: 0.49\n"
     ]
    }
   ],
   "source": [
    "count_0 = 0\n",
    "count_1 = 0\n",
    "\n",
    "for i in range(shots):\n",
    "    outcome = qiskitSampler()\n",
    "    print(outcome, end='')\n",
    "\n",
    "    if outcome == 0:\n",
    "        count_0 += 1\n",
    "    else:\n",
    "        count_1 += 1\n",
    "\n",
    "\n",
    "prob_0 = count_0/shots\n",
    "prob_1 = count_1/shots\n",
    "\n",
    "print(\"\\n\\nProbability of |0> in the first qubit:\", prob_0)\n",
    "print(\"\\nProbability of |1> in the first qubit:\", prob_1)"
   ]
  },
  {
   "cell_type": "markdown",
   "metadata": {},
   "source": [
    "### 2. Calculating the Exact Expectation Value"
   ]
  },
  {
   "cell_type": "markdown",
   "metadata": {},
   "source": [
    "The exact expectation value of an observable $\\hat{O}$ in a given quantum state $|\\Psi\\rangle$ is calculated using the formula:\n",
    "\n",
    "$$\n",
    "\\langle \\hat{O} \\rangle = \\langle \\Psi | \\hat{O} | \\Psi \\rangle\n",
    "$$\n"
   ]
  },
  {
   "cell_type": "markdown",
   "metadata": {},
   "source": [
    "#### 2.a Custom Simulator Exact Estimator Results"
   ]
  },
  {
   "cell_type": "markdown",
   "metadata": {},
   "source": [
    "Obtain the previous final state:"
   ]
  },
  {
   "cell_type": "code",
   "execution_count": 64,
   "metadata": {},
   "outputs": [],
   "source": [
    "def n_kron_product(matrix, n):\n",
    "    \"\"\"\n",
    "    calculate kron product of matrix n times. For example, used to expand the single-qubit quantum gate (H, X, ...) to all other qubits\n",
    "    \"\"\"\n",
    "\n",
    "    result = matrix\n",
    "    for i in range(n-1):\n",
    "        result = np.kron(result, matrix)\n",
    "\n",
    "    return result\n",
    "\n",
    "def n_cnot_gate(n):\n",
    "    \"\"\"\n",
    "    construct 2-qubit CNOT gate matrix representation. This code below allowed to customize the control and target qubit to create the corresponding circuits. In general, in this circuit example we will always use the control qubit in the first qubit (0) and the target qubit in the last (n-1)\n",
    "    \"\"\"\n",
    "\n",
    "    dist = n - 2 # distance or the number of qubits between control and target qubit (in this case, always first and last qubit)\n",
    "\n",
    "    sq_X = np.array([[0,1], [1,0]]) # single qubit X gate\n",
    "\n",
    "    N = 2 ** (dist+2)\n",
    "    N_half = int(N/2)\n",
    "\n",
    "    I_half_N = np.identity(N_half)\n",
    "\n",
    "    Zero_half_N = np.zeros((N_half, N_half))\n",
    "\n",
    "    I_quarter_N = np.identity(int(N/4))\n",
    "    right_bottom_matrix = np.kron(I_quarter_N, sq_X)\n",
    "    \n",
    "    # print(\"I_half_N\", I_half_N)\n",
    "    # print(\"Zero_half_N\", Zero_half_N)\n",
    "    # print(\"RB\", right_bottom_matrix)\n",
    "\n",
    "    CX = np.block([[I_half_N, Zero_half_N],\n",
    "                [Zero_half_N, right_bottom_matrix]])\n",
    "\n",
    "    # print(CX)\n",
    "    # print(np.kron(I, CX))  \n",
    "    return CX "
   ]
  },
  {
   "cell_type": "code",
   "execution_count": 65,
   "metadata": {},
   "outputs": [],
   "source": [
    "# qubits = 15\n",
    "import time\n",
    "\n",
    "# Define Single qubit state and gate\n",
    "sq_ket_0 = np.array([1,0])\n",
    "sq_ket_1 = np.array([0,1])\n",
    "\n",
    "sq_I = np.array([[1,0], [0,1]])\n",
    "sq_X = np.array([[0,1], [1,0]])\n",
    "sq_H = 1/np.sqrt(2)*np.array([[1,1], [1,-1]])\n",
    "\n",
    "dq_CNOT = np.array([[1,0,0,0],\n",
    "                    [0,1,0,0],\n",
    "                    [0,0,0,1],\n",
    "                    [0,0,1,0],])\n",
    "\n",
    "\n",
    "\n",
    "def quantum_simulator(qubits):\n",
    "\n",
    "    start_time = time.time()\n",
    "    # Define n qubits quantum gates\n",
    "    n_sq_X = n_kron_product(sq_X, qubits)\n",
    "    n_sq_H = n_kron_product(sq_H, qubits)\n",
    "    n_cnot = n_cnot_gate(qubits)\n",
    "\n",
    "    # Define n qubits statevectors\n",
    "    n_statevector = n_kron_product(sq_ket_0, qubits)\n",
    "    # print(n_statevector)\n",
    "\n",
    "    result = n_cnot @ n_sq_H @ n_sq_X @ n_statevector\n",
    "    end_time = time.time()\n",
    "    runtime = end_time - start_time\n",
    "    # print(result)\n",
    "\n",
    "    return result, runtime"
   ]
  },
  {
   "cell_type": "code",
   "execution_count": 91,
   "metadata": {},
   "outputs": [
    {
     "name": "stdout",
     "output_type": "stream",
     "text": [
      "Final State: [ 0.35355339 -0.35355339 -0.35355339  0.35355339  0.35355339 -0.35355339\n",
      " -0.35355339  0.35355339]\n"
     ]
    }
   ],
   "source": [
    "N_qubits = 3\n",
    "final_state = quantum_simulator(N_qubits)[0]\n",
    "print(\"Final State:\", final_state)"
   ]
  },
  {
   "cell_type": "markdown",
   "metadata": {},
   "source": [
    "In this example, we will try to measure the expectation value of Pauli Z oeprator:"
   ]
  },
  {
   "cell_type": "code",
   "execution_count": 92,
   "metadata": {},
   "outputs": [
    {
     "name": "stdout",
     "output_type": "stream",
     "text": [
      "[[ 1  0  0  0  0  0  0  0]\n",
      " [ 0 -1  0  0  0  0  0  0]\n",
      " [ 0  0 -1  0  0  0  0  0]\n",
      " [ 0  0  0  1  0  0  0  0]\n",
      " [ 0  0  0  0 -1  0  0  0]\n",
      " [ 0  0  0  0  0  1  0  0]\n",
      " [ 0  0  0  0  0  0  1  0]\n",
      " [ 0  0  0  0  0  0  0 -1]]\n"
     ]
    }
   ],
   "source": [
    "single_qubit_pauli_z = np.array([[1, 0], [0, -1]])\n",
    "\n",
    "pauli_z = np.kron(np.kron(single_qubit_pauli_z, single_qubit_pauli_z), single_qubit_pauli_z)\n",
    "print(pauli_z)"
   ]
  },
  {
   "cell_type": "markdown",
   "metadata": {},
   "source": [
    "Define the expectation value measurement function:\n",
    "$$\n",
    "\\langle \\hat{Z} \\rangle = \\langle \\psi_{final state} | \\hat{Z} | \\psi_{final state} \\rangle\n",
    "$$\n"
   ]
  },
  {
   "cell_type": "code",
   "execution_count": 123,
   "metadata": {},
   "outputs": [
    {
     "name": "stdout",
     "output_type": "stream",
     "text": [
      "0.0\n"
     ]
    }
   ],
   "source": [
    "expectation_value = np.conjugate(final_state) @ pauli_z @ final_state\n",
    "print(expectation_value)"
   ]
  },
  {
   "cell_type": "markdown",
   "metadata": {},
   "source": [
    "The result is 0, as expected. It also matches the result from the Qiskit exact estimator (StateVector Estimator) shown below."
   ]
  },
  {
   "cell_type": "markdown",
   "metadata": {},
   "source": [
    "#### 2.b Custom Simulator Exact Estimator Results"
   ]
  },
  {
   "cell_type": "code",
   "execution_count": 149,
   "metadata": {},
   "outputs": [
    {
     "name": "stdout",
     "output_type": "stream",
     "text": [
      "0.0\n"
     ]
    }
   ],
   "source": [
    "from qiskit.primitives import StatevectorEstimator\n",
    "from qiskit_ibm_runtime import SamplerV2, EstimatorV2\n",
    "from qiskit_aer import AerSimulator\n",
    "from qiskit import QuantumCircuit\n",
    "from qiskit.quantum_info import SparsePauliOp\n",
    "\n",
    "obs = SparsePauliOp('ZZZ')\n",
    "\n",
    "qc = QuantumCircuit(3)\n",
    "qc.x([0,1,2])\n",
    "qc.h([0,1,2])\n",
    "qc.cx(0,2)\n",
    "\n",
    "estimator = StatevectorEstimator()\n",
    "\n",
    "job = estimator.run([(qc, obs)])\n",
    "exp_vals_aer = job.result()[0].data.evs\n",
    "print(exp_vals_aer)"
   ]
  }
 ],
 "metadata": {
  "kernelspec": {
   "display_name": "qiskit-1-2",
   "language": "python",
   "name": "python3"
  },
  "language_info": {
   "codemirror_mode": {
    "name": "ipython",
    "version": 3
   },
   "file_extension": ".py",
   "mimetype": "text/x-python",
   "name": "python",
   "nbconvert_exporter": "python",
   "pygments_lexer": "ipython3",
   "version": "3.12.3"
  }
 },
 "nbformat": 4,
 "nbformat_minor": 2
}
