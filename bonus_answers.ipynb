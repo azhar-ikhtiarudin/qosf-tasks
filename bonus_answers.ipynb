{
 "cells": [
  {
   "cell_type": "markdown",
   "metadata": {},
   "source": [
    "### Bonus Question"
   ]
  },
  {
   "cell_type": "markdown",
   "metadata": {},
   "source": [
    "### 1. Sample final states in the statevector or tensor representations"
   ]
  },
  {
   "cell_type": "markdown",
   "metadata": {},
   "source": [
    "\n",
    "Sampling final states involves applying quantum measurement to the current state of a qubit. This measurement typically projects the state onto the computational basis states, which are \\( |0\\rangle \\) and \\( |1\\rangle \\). The corresponding projectors for these states are:\n",
    "\n",
    "\\begin{align*}\n",
    "    \\text{Projector for } |0\\rangle: & \\quad P_0 = |0\\rangle \\langle 0| = \\begin{bmatrix} 1 & 0 \\\\ 0 & 0 \\end{bmatrix} \\\\\n",
    "    \\text{Projector for } |1\\rangle: & \\quad P_1 = |1\\rangle \\langle 1| = \\begin{bmatrix} 0 & 0 \\\\ 0 & 1 \\end{bmatrix}\n",
    "\\end{align*}\n",
    "\n",
    "When we measure a qubit, we apply one of these projectors. The measurement outcome (either $ |0\\rangle $ or $ |1\\rangle $) depends on the probabilities derived from the state's amplitudes. After applying a projector, we normalize the resulting state to reflect the new state of the qubit after measurement."
   ]
  },
  {
   "cell_type": "code",
   "execution_count": 3,
   "metadata": {},
   "outputs": [],
   "source": [
    "import numpy as np\n",
    "from scipy.linalg import norm\n",
    "\n",
    "# Define projectors for |0⟩ and |1⟩\n",
    "projectors = [np.array([[1, 0], [0, 0]]), np.array([[0, 0], [0, 1]])]"
   ]
  },
  {
   "cell_type": "markdown",
   "metadata": {},
   "source": [
    "To determine the outcome of a measurement, we first calculate the probabilities of obtaining each state. For example, for a qubit in the state \n",
    "\n",
    "$$|\\psi\\rangle = \\alpha |0\\rangle + \\beta |1\\rangle,$$\n",
    "\n",
    "the probabilities of measuring $|0\\rangle$ and $|1\\rangle$ are calculated using the projectors $P_0$ and $P_1$:\n",
    "\n",
    "$$P(0) = \\langle \\psi | P_0 | \\psi \\rangle = |\\alpha|^2,$$\n",
    "\n",
    "$$P(1) = \\langle \\psi | P_1 | \\psi \\rangle = |\\beta|^2.$$\n"
   ]
  },
  {
   "cell_type": "markdown",
   "metadata": {},
   "source": [
    "Once the probabilities are determined, we can measure the qubit. "
   ]
  },
  {
   "cell_type": "code",
   "execution_count": 4,
   "metadata": {},
   "outputs": [],
   "source": [
    "# Initialize the state\n",
    "def initialize_state(n):\n",
    "    state = np.zeros((2,) * n)\n",
    "    state[(0,) * n] = 1  # Start with |0...0⟩ state\n",
    "    return state\n",
    "\n",
    "# Project state onto |0⟩ or |1⟩ for qubit i\n",
    "def project(i, j, state):\n",
    "    projected = np.tensordot(projectors[j], state, (1, i))\n",
    "    return np.moveaxis(projected, 0, i)\n",
    "\n",
    "# Example: Hadamard gate\n",
    "H_matrix = 1/np.sqrt(2) * np.array([[1, 1],\n",
    "                                    [1, -1]])\n",
    "def H(i, psi):\n",
    "    psi = np.tensordot(H_matrix, psi, (1, i))\n",
    "    psi = np.moveaxis(psi, 0, i)\n",
    "    return psi\n",
    "\n",
    "# Measure qubit\n",
    "def measure(i, psi):\n",
    "    # Project onto |0⟩ for qubit i and calculate the probability of measuring |0⟩\n",
    "    projected_0 = project(i, 0, psi)\n",
    "    prob_0 = norm(projected_0.flatten())**2  # Probability of |0⟩\n",
    "\n",
    "    # Decide the measurement outcome based on probability\n",
    "    if np.random.random() < prob_0:\n",
    "        psi = projected_0 / norm(projected_0)  # Collapse to |0⟩ state for qubit i\n",
    "        return 0, psi\n",
    "    else:\n",
    "        projected_1 = project(i, 1, psi)\n",
    "        psi = projected_1 / norm(projected_1)  # Collapse to |1⟩ state for qubit i\n",
    "        return 1, psi"
   ]
  },
  {
   "cell_type": "code",
   "execution_count": 21,
   "metadata": {},
   "outputs": [
    {
     "name": "stdout",
     "output_type": "stream",
     "text": [
      "Measurement result of qubit-0: 0\n",
      "State after measurement: [0.70710678 0.70710678 0.         0.        ]\n"
     ]
    }
   ],
   "source": [
    "N = 2 # Number of qubits\n",
    "state = initialize_state(N)  # Initialize a 2-qubit state in |00⟩\n",
    "\n",
    "# Apply Hadamard gate to both qubits to create superposition\n",
    "for i in range(N):\n",
    "    state = H(i, state)\n",
    "\n",
    "# Measure the first qubit\n",
    "outcome, state = measure(0, state)\n",
    "print(\"Measurement result of qubit-0:\", outcome)\n",
    "print(\"State after measurement:\", state.flatten())\n"
   ]
  },
  {
   "cell_type": "markdown",
   "metadata": {},
   "source": [
    "An example of 100 measurements for this state will result in probabilities close to 0.5:0.5, as shown below:"
   ]
  },
  {
   "cell_type": "code",
   "execution_count": 42,
   "metadata": {},
   "outputs": [
    {
     "name": "stdout",
     "output_type": "stream",
     "text": [
      "Measurement Results:\n",
      "0100111010000011101110000111101111110001001110111100001101000001011001001010110011100001100011101101\n",
      "\n",
      "Probability of |0>: 0.49\n",
      "\n",
      "Probability of |1>: 0.51\n"
     ]
    }
   ],
   "source": [
    "count_0 = 0 # count of measurement outcome 0\n",
    "count_1 = 0 # count of measurement outcome 1\n",
    "N = 3 # Number of qubits\n",
    "shots = 100\n",
    "\n",
    "print(\"Measurement Results:\")\n",
    "for i in range(shots):\n",
    "    state = initialize_state(N)\n",
    "    for j in range(N):\n",
    "        state = H(j, state)\n",
    "    outcome, state = measure(0, state)\n",
    "    print(outcome, end='')\n",
    "\n",
    "    if outcome == 0:\n",
    "        count_0 += 1\n",
    "    else:\n",
    "        count_1 += 1\n",
    "\n",
    "prob_0 = count_0/shots\n",
    "prob_1 = count_1/shots\n",
    "\n",
    "print(\"\\n\\nProbability of |0>:\", prob_0)\n",
    "print(\"\\nProbability of |1>:\", prob_1)"
   ]
  },
  {
   "cell_type": "markdown",
   "metadata": {},
   "source": [
    "### 2. Calculating the Exact Expectation Value"
   ]
  }
 ],
 "metadata": {
  "kernelspec": {
   "display_name": "qiskit-1-2",
   "language": "python",
   "name": "python3"
  },
  "language_info": {
   "codemirror_mode": {
    "name": "ipython",
    "version": 3
   },
   "file_extension": ".py",
   "mimetype": "text/x-python",
   "name": "python",
   "nbconvert_exporter": "python",
   "pygments_lexer": "ipython3",
   "version": "3.12.3"
  }
 },
 "nbformat": 4,
 "nbformat_minor": 2
}
