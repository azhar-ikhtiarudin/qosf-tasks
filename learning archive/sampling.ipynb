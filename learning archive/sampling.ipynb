{
 "cells": [
  {
   "cell_type": "code",
   "execution_count": 1,
   "metadata": {},
   "outputs": [],
   "source": [
    "import numpy as np"
   ]
  },
  {
   "cell_type": "code",
   "execution_count": null,
   "metadata": {},
   "outputs": [],
   "source": [
    "projectors = [np.array([[1, 0], [0, 0]]), np.array([[0, 0], [0, 1]])]\n",
    "\n",
    "class Reg:\n",
    "    def __init__(self, n):\n",
    "        self.n = n\n",
    "        self.psi = np.zeros((2,)*n)\n",
    "        self.psi[(0,)*n] = 1\n",
    "\n",
    "H_matrix = 1/np.sqrt(2)*np.array([[1,1],\n",
    "                                  [1,-1]])\n",
    "\n",
    "def H(i, reg):\n",
    "    reg.psi = np.tensordot(H_matrix, reg.psi, (1,i))\n",
    "    reg.psi = np.moveaxis(reg.psi,0,i)\n",
    "\n",
    "\n",
    "def project(i, j, reg):\n",
    "    projected = np.tensordot(projectors[j], reg.psi, (1,i))\n",
    "    return np.moveaxis(projected, 0, i)\n",
    "\n",
    "\n",
    "from scipy.linalg import norm\n",
    "\n",
    "def measure(i, reg):\n",
    "    projected = project(i, 0, reg)\n",
    "    norm_projected = norm(projected.flatten())\n",
    "    if np.random.random() < norm_projected**2:\n",
    "        reg.psi = projected/norm_projected\n",
    "        return 0\n",
    "    else:\n",
    "        projected = project(i,1,reg)\n",
    "        reg.psi = projected/norm(projected)\n",
    "        return 1"
   ]
  },
  {
   "cell_type": "markdown",
   "metadata": {},
   "source": [
    "Example on applying a Hadamard gate to the 0th qubit of the all zero state"
   ]
  },
  {
   "cell_type": "code",
   "execution_count": 9,
   "metadata": {},
   "outputs": [
    {
     "name": "stdout",
     "output_type": "stream",
     "text": [
      "1010011101101101010111101011011111110100110100100100111110111100010110111101000011011001001011001010"
     ]
    }
   ],
   "source": [
    "for i in range(100):\n",
    "    reg = Reg(4)\n",
    "    H(0, reg)\n",
    "    print(measure(0, reg), end='')"
   ]
  },
  {
   "cell_type": "markdown",
   "metadata": {},
   "source": [
    "Example case when get the outcome but then do not reinitialize the state after measurement"
   ]
  },
  {
   "cell_type": "code",
   "execution_count": 12,
   "metadata": {},
   "outputs": [
    {
     "name": "stdout",
     "output_type": "stream",
     "text": [
      "1111111111111111111111111111111111111111111111111111111111111111111111111111111111111111111111111111"
     ]
    }
   ],
   "source": [
    "reg = Reg(4)\n",
    "H(0, reg)\n",
    "for i in range(100):\n",
    "    print(measure(0,reg), end='')"
   ]
  },
  {
   "cell_type": "markdown",
   "metadata": {},
   "source": [
    "generate Bell state, and then measure the first qubit"
   ]
  },
  {
   "cell_type": "code",
   "execution_count": 16,
   "metadata": {},
   "outputs": [
    {
     "name": "stdout",
     "output_type": "stream",
     "text": [
      "11 11 11 11 11 11 11 11 00 00 11 11 00 11 11 00 00 11 00 11 11 11 11 00 11 11 00 11 00 00 11 11 00 11 11 00 11 00 11 11 00 00 11 11 11 11 11 00 00 11 11 00 11 11 11 11 00 00 00 11 00 11 00 11 00 00 11 00 11 00 11 11 00 00 11 11 11 00 11 11 00 11 00 00 11 00 11 11 11 11 11 11 11 00 00 00 00 00 11 00 "
     ]
    }
   ],
   "source": [
    "def CNOT(control, target, reg):\n",
    "    reg.psi = np.tensordot(np.reshape(np.array([[1,0,0,0],\n",
    "                                                [0,1,0,0],\n",
    "                                                [0,0,0,1],\n",
    "                                                [0,0,1,0]]), (2,2,2,2)), reg.psi, ((2,3), (control, target)))\n",
    "\n",
    "    reg.psi = np.moveaxis(reg.psi, (0,1), (control, target))\n",
    "\n",
    "def generate_GHZ(reg):\n",
    "    H(0, reg)\n",
    "    for i in range(reg.n-1):\n",
    "        CNOT(i, i+1, reg)\n",
    "\n",
    "for i in range(100):\n",
    "    reg = Reg(4)\n",
    "    generate_GHZ(reg)\n",
    "    print(measure(0,reg),end='')\n",
    "    print(measure(1,reg),end=' ')"
   ]
  },
  {
   "cell_type": "code",
   "execution_count": null,
   "metadata": {},
   "outputs": [],
   "source": [
    "import time\n",
    "\n",
    "H_gate = 1/np.sqrt(2)*np.array([[1,1],\n",
    "                    [1,-1]])\n",
    "\n",
    "X_gate = np.array([[0,1],\n",
    "                   [1,0]])\n",
    "\n",
    "CNOT_gate = np.array([[1,0,0,0],\n",
    "                    [0,1,0,0],\n",
    "                    [0,0,0,1],\n",
    "                    [0,0,1,0]]).reshape(2,2,2,2)\n",
    "\n",
    "def apply_single_qubit_gate(state, gate, target_qubit):\n",
    "\n",
    "    psi_updated = np.tensordot(gate, state, axes=(1,target_qubit))\n",
    "    psi_updated = np.moveaxis(psi_updated, 0, target_qubit)\n",
    "\n",
    "    return psi_updated\n",
    "\n",
    "def apply_cnot_gate(state, target_qubit, control_qubit):\n",
    "\n",
    "    psi_updated = np.tensordot(CNOT_gate, state, ((2,3), (control_qubit, target_qubit)))\n",
    "    psi_updated = np.moveaxis(state, (0,1), (control_qubit, target_qubit))\n",
    "\n",
    "    return psi_updated\n",
    "\n",
    "def quantum_simulator(N):\n",
    "    \n",
    "    start_time = time.time()\n",
    "\n",
    "    psi = np.zeros((2,)*N)\n",
    "    psi[(0,)*N] = 1 #initiate example state: |000...001> \n",
    "    \n",
    "    for i in range(N): # apply the gate for each qubit\n",
    "        psi = apply_single_qubit_gate(psi, X_gate, i)\n",
    "        psi = apply_single_qubit_gate(psi, H_gate, i)\n",
    "    \n",
    "    psi = apply_cnot_gate(psi, N-1, 0)\n",
    "    \n",
    "    end_time = time.time()\n",
    "    runtime = end_time - start_time\n",
    "\n",
    "    result = psi\n",
    "    \n",
    "    return result, runtime\n"
   ]
  },
  {
   "cell_type": "code",
   "execution_count": null,
   "metadata": {},
   "outputs": [
    {
     "name": "stdout",
     "output_type": "stream",
     "text": [
      "[[1. 0.]\n",
      " [0. 0.]]\n",
      "1.0\n"
     ]
    }
   ],
   "source": [
    "def measure(qubit, state):\n",
    "    projected = np.tensordot(projectors[0], state, (1,qubit))\n",
    "    print(projected)\n",
    "    norm_projected = norm(projected.flatten())\n",
    "    print(norm_projected)\n",
    "\n",
    "    if np.random.random() < norm_projected**2:\n",
    "        psi = projected/norm_projected\n",
    "        return 0\n",
    "    else:\n",
    "        projected = np.tenso\n",
    "\n",
    "psi = np.zeros((2,)*2)\n",
    "psi[0,0] = 1\n",
    "\n",
    "measure(qubit=0, state=psi)"
   ]
  },
  {
   "cell_type": "code",
   "execution_count": 56,
   "metadata": {},
   "outputs": [
    {
     "name": "stdout",
     "output_type": "stream",
     "text": [
      "Measurement outcome of qubit 0: 1\n",
      "State after measurement: [[0.         0.        ]\n",
      " [0.70710678 0.70710678]]\n"
     ]
    }
   ],
   "source": [
    "import numpy as np\n",
    "from scipy.linalg import norm\n",
    "\n",
    "# Define projectors for |0⟩ and |1⟩\n",
    "projectors = [np.array([[1, 0], [0, 0]]), np.array([[0, 0], [0, 1]])]\n",
    "\n",
    "# Define Hadamard matrix\n",
    "H_matrix = 1/np.sqrt(2) * np.array([[1, 1],\n",
    "                                    [1, -1]])\n",
    "\n",
    "# Initialize the state\n",
    "def initialize_state(n):\n",
    "    psi = np.zeros((2,) * n)\n",
    "    psi[(0,) * n] = 1  # Start in the |0...0⟩ state\n",
    "    return psi\n",
    "\n",
    "# Apply Hadamard gate to qubit i\n",
    "def H(i, psi):\n",
    "    psi = np.tensordot(H_matrix, psi, (1, i))\n",
    "    psi = np.moveaxis(psi, 0, i)\n",
    "    return psi\n",
    "\n",
    "# Project state onto |0⟩ or |1⟩ for qubit i\n",
    "def project(i, j, psi):\n",
    "    projected = np.tensordot(projectors[j], psi, (1, i))\n",
    "    return np.moveaxis(projected, 0, i)\n",
    "\n",
    "# Measure qubit i\n",
    "def measure(i, psi):\n",
    "    # Project onto |0⟩ for qubit i and calculate the probability of measuring |0⟩\n",
    "    projected_0 = project(i, 0, psi)\n",
    "    prob_0 = norm(projected_0.flatten())**2  # Probability of |0⟩\n",
    "\n",
    "    # Decide the measurement outcome based on probability\n",
    "    if np.random.random() < prob_0:\n",
    "        psi = projected_0 / norm(projected_0)  # Collapse to |0⟩ state for qubit i\n",
    "        return 0, psi\n",
    "    else:\n",
    "        projected_1 = project(i, 1, psi)\n",
    "        psi = projected_1 / norm(projected_1)  # Collapse to |1⟩ state for qubit i\n",
    "        return 1, psi\n",
    "\n",
    "# Example Usage\n",
    "n_qubits = 2\n",
    "psi = initialize_state(n_qubits)  # Initialize a 2-qubit state in |00⟩\n",
    "\n",
    "# Apply Hadamard gate to both qubits to create superposition\n",
    "for i in range(n_qubits):\n",
    "    psi = H(i, psi)\n",
    "\n",
    "# Measure the first qubit\n",
    "outcome, psi = measure(0, psi)\n",
    "print(\"Measurement outcome of qubit 0:\", outcome)\n",
    "print(\"State after measurement:\", psi)\n"
   ]
  }
 ],
 "metadata": {
  "kernelspec": {
   "display_name": "qiskit-1-2",
   "language": "python",
   "name": "python3"
  },
  "language_info": {
   "codemirror_mode": {
    "name": "ipython",
    "version": 3
   },
   "file_extension": ".py",
   "mimetype": "text/x-python",
   "name": "python",
   "nbconvert_exporter": "python",
   "pygments_lexer": "ipython3",
   "version": "3.12.3"
  }
 },
 "nbformat": 4,
 "nbformat_minor": 2
}
