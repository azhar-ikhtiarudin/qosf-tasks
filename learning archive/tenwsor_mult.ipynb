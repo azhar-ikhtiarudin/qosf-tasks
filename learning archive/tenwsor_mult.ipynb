{
 "cells": [
  {
   "cell_type": "code",
   "execution_count": 4,
   "metadata": {},
   "outputs": [],
   "source": [
    "import time\n",
    "\n",
    "import numpy as np"
   ]
  },
  {
   "cell_type": "code",
   "execution_count": null,
   "metadata": {},
   "outputs": [],
   "source": [
    "H_gate = 1/np.sqrt(2)*np.array([[1,1],\n",
    "                    [1,-1]])\n",
    "\n",
    "X_gate = np.array([[0,1],\n",
    "                   [1,0]])\n",
    "\n",
    "CNOT_gate = np.array([[1,0,0,0],\n",
    "                    [0,1,0,0],\n",
    "                    [0,0,0,1],\n",
    "                    [0,0,1,0]]).reshape(2,2,2,2)\n",
    "\n",
    "def apply_single_qubit_gate(state, gate, target_qubit):\n",
    "\n",
    "    psi_updated = np.tensordot(gate, state, axes=(1,target_qubit))\n",
    "    psi_updated = np.moveaxis(psi_updated, 0, target_qubit)\n",
    "\n",
    "    return psi_updated\n",
    "\n",
    "def apply_cnot_gate(state, target_qubit, control_qubit):\n",
    "\n",
    "    psi_updated = np.tensordot(CNOT_gate, state, ((2,3), (control_qubit, target_qubit)))\n",
    "    psi_updated = np.moveaxis(state, (0,1), (control_qubit, target_qubit))\n",
    "\n",
    "    return psi_updated\n",
    "\n",
    "def quantum_simulator(N):\n",
    "    \n",
    "    start_time = time.time()\n",
    "\n",
    "    psi = np.zeros((2,)*N)\n",
    "    psi[(0,)*N] = 1 #initiate example state: |000...001> \n",
    "    \n",
    "    for i in range(N): # apply the gate for each qubit\n",
    "        psi = apply_single_qubit_gate(psi, X_gate, i)\n",
    "        psi = apply_single_qubit_gate(psi, H_gate, i)\n",
    "    \n",
    "    psi = apply_cnot_gate(psi, N-1, 0)\n",
    "    \n",
    "    end_time = time.time()\n",
    "    runtime = end_time - start_time\n",
    "\n",
    "    result = psi\n",
    "    \n",
    "    return result, runtime\n"
   ]
  },
  {
   "cell_type": "code",
   "execution_count": 9,
   "metadata": {},
   "outputs": [
    {
     "name": "stdout",
     "output_type": "stream",
     "text": [
      "[2 3]\n",
      "qubits: 2 , runtime: 0.0008847713470458984\n",
      "[ 0.5 -0.5 -0.5  0.5]\n",
      "qubits: 3 , runtime: 0.0007238388061523438\n",
      "[ 0.35355339 -0.35355339 -0.35355339  0.35355339 -0.35355339  0.35355339\n",
      "  0.35355339 -0.35355339]\n"
     ]
    }
   ],
   "source": [
    "qubits_range = np.arange(2,4,1)\n",
    "print(qubits_range)\n",
    "\n",
    "results_range = []\n",
    "runtime_range = []\n",
    "\n",
    "for qubit in qubits_range:\n",
    "    result, runtime = quantum_simulator(qubit)\n",
    "    results_range.append(result)\n",
    "    runtime_range.append(runtime)\n",
    "    print(\"qubits:\", qubit, \", runtime:\", runtime)\n",
    "    print(result.flatten())"
   ]
  },
  {
   "cell_type": "code",
   "execution_count": 2,
   "metadata": {},
   "outputs": [
    {
     "data": {
      "text/plain": [
       "[<matplotlib.lines.Line2D at 0x7f12e7571810>]"
      ]
     },
     "execution_count": 2,
     "metadata": {},
     "output_type": "execute_result"
    },
    {
     "data": {
      "image/png": "[encoded data removed]",
      "text/plain": [
       "<Figure size 640x480 with 1 Axes>"
      ]
     },
     "metadata": {},
     "output_type": "display_data"
    }
   ],
   "source": [
    "import matplotlib.pyplot as plt\n",
    "\n",
    "runtime = [0.0005764961242675781,0.0004582405090332031,0.00072479248046875,0.0007426738739013672,0.0010037422180175781,0.0004863739013671875,0.00031447410583496094,0.0003254413604736328,0.00040912628173828125,0.00040078163146972656,0.0005686283111572266,0.0011565685272216797,0.0014486312866210938,0.0023064613342285156,0.004142284393310547,0.011193037033081055,0.04075050354003906,0.09332013130187988,0.2234055995941162,0.5562641620635986,0.8617799282073975,1.800828456878662,3.802558660507202,7.746905565261841,16.40095090866089,42.18431353569031]\n",
    "plt.plot(runtime)"
   ]
  },
  {
   "cell_type": "markdown",
   "metadata": {},
   "source": [
    "From the results above, we conclude that the maximum number of qubits that can be simulated with tensor multiplication is higher than the matrix multiplication, which is up to 27 qubits. The runtime charts was shown below:"
   ]
  }
 ],
 "metadata": {
  "kernelspec": {
   "display_name": "quantum-dev-2",
   "language": "python",
   "name": "python3"
  },
  "language_info": {
   "codemirror_mode": {
    "name": "ipython",
    "version": 3
   },
   "file_extension": ".py",
   "mimetype": "text/x-python",
   "name": "python",
   "nbconvert_exporter": "python",
   "pygments_lexer": "ipython3",
   "version": "3.11.8"
  }
 },
 "nbformat": 4,
 "nbformat_minor": 2
}
