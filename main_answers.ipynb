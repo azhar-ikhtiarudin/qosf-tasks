{
 "cells": [
  {
   "cell_type": "markdown",
   "metadata": {},
   "source": [
    "## Task 1 State Vector Simulation of Quantum Circuits"
   ]
  },
  {
   "cell_type": "markdown",
   "metadata": {},
   "source": [
    "For this task, you will implement a state vectorstatevector simulator for quantum circuits from scratch. The goal is to demystify how to simulate a quantum computer and to demonstrate your familiarity with quantum circuits."
   ]
  },
  {
   "cell_type": "code",
   "execution_count": 1,
   "metadata": {},
   "outputs": [],
   "source": [
    "# Import required Library\n",
    "import time # for time benchmarking\n",
    "import numpy as np # for calculation\n",
    "import matplotlib.pyplot as plt\n",
    "\n",
    "from qiskit import QuantumCircuit # for testing and comparison\n",
    "from qiskit_aer import AerSimulator\n"
   ]
  },
  {
   "cell_type": "markdown",
   "metadata": {},
   "source": [
    "### 0. Tested Initial States and Circuits"
   ]
  },
  {
   "cell_type": "markdown",
   "metadata": {},
   "source": [
    "In this project, the initial state of all circuits will be set to: \\( |0\\rangle \\) for the single-qubit case, \\( |00\\rangle \\) for two qubits, and so on, \\( |00\\ldots0\\rangle \\) for \\( N \\) qubits. The vector array representation for each case would then be \\([1, 0]\\) for a single qubit, \\([1, 0, 0, 0]\\) for two qubits, and so on for \\( N \\) qubits: \\([1, 0, 0, \\ldots, 0]\\).\n",
    "\n",
    "The tested circuits are dummy circuits that consist of X, H, and CNOT gates, with a constantly increasing number of qubits. The X and H gates are applied to all qubits from \\( 0 \\) to \\( N-1 \\), while the CNOT gate is only applied once, with the control and target qubits being the first and last qubits, respectively.\n",
    "\n",
    "For testing purposes, the Qiskit visualization library will be used to show the results of simulations of these circuits for simple cases with 2 and 3 qubits.\n"
   ]
  },
  {
   "cell_type": "markdown",
   "metadata": {},
   "source": [
    "- 2 qubits example:"
   ]
  },
  {
   "cell_type": "code",
   "execution_count": 2,
   "metadata": {},
   "outputs": [
    {
     "data": {
      "image/png": "[encoded data removed]",
      "text/plain": [
       "<Figure size 788.961x200.667 with 1 Axes>"
      ]
     },
     "execution_count": 2,
     "metadata": {},
     "output_type": "execute_result"
    }
   ],
   "source": [
    "qc = QuantumCircuit(2)\n",
    "\n",
    "qc.x(0)\n",
    "qc.barrier()\n",
    "qc.x([0,1])\n",
    "qc.h([0,1])\n",
    "qc.cx(0,1)\n",
    "\n",
    "qc.save_statevector()\n",
    "\n",
    "qc.draw(reverse_bits=False, style=\"bw\")\n",
    "\n"
   ]
  },
  {
   "cell_type": "code",
   "execution_count": 3,
   "metadata": {},
   "outputs": [
    {
     "data": {
      "text/latex": [
       "$$\\frac{1}{2} |00\\rangle- \\frac{1}{2} |01\\rangle- \\frac{1}{2} |10\\rangle+\\frac{1}{2} |11\\rangle$$"
      ],
      "text/plain": [
       "<IPython.core.display.Latex object>"
      ]
     },
     "execution_count": 3,
     "metadata": {},
     "output_type": "execute_result"
    }
   ],
   "source": [
    "result = AerSimulator().run(qc).result()\n",
    "psi = result.get_statevector()\n",
    "psi.draw(output='latex')"
   ]
  },
  {
   "cell_type": "markdown",
   "metadata": {},
   "source": [
    "- 3 qubits example:"
   ]
  },
  {
   "cell_type": "code",
   "execution_count": 4,
   "metadata": {},
   "outputs": [
    {
     "data": {
      "image/png": "[encoded data removed]",
      "text/plain": [
       "<Figure size 789.163x284.278 with 1 Axes>"
      ]
     },
     "execution_count": 4,
     "metadata": {},
     "output_type": "execute_result"
    }
   ],
   "source": [
    "qc = QuantumCircuit(3)\n",
    "\n",
    "qc.x(0)\n",
    "\n",
    "qc.barrier()\n",
    "\n",
    "qc.x([0,1,2])\n",
    "qc.h([0,1,2])\n",
    "qc.cx(0,2)\n",
    "\n",
    "qc.save_statevector()\n",
    "\n",
    "qc.draw(reverse_bits=False, style=\"bw\")"
   ]
  },
  {
   "cell_type": "code",
   "execution_count": 5,
   "metadata": {},
   "outputs": [
    {
     "data": {
      "text/latex": [
       "$$\\frac{\\sqrt{2}}{4} |000\\rangle- \\frac{\\sqrt{2}}{4} |001\\rangle- \\frac{\\sqrt{2}}{4} |010\\rangle+\\frac{\\sqrt{2}}{4} |011\\rangle- \\frac{\\sqrt{2}}{4} |100\\rangle+\\frac{\\sqrt{2}}{4} |101\\rangle+\\frac{\\sqrt{2}}{4} |110\\rangle- \\frac{\\sqrt{2}}{4} |111\\rangle$$"
      ],
      "text/plain": [
       "<IPython.core.display.Latex object>"
      ]
     },
     "execution_count": 5,
     "metadata": {},
     "output_type": "execute_result"
    }
   ],
   "source": [
    "result = AerSimulator().run(qc).result()\n",
    "psi = result.get_statevector()\n",
    "psi.draw(output='latex')"
   ]
  },
  {
   "cell_type": "markdown",
   "metadata": {},
   "source": [
    "### 1. Naive Simulation using Matrix Multiplication"
   ]
  },
  {
   "cell_type": "markdown",
   "metadata": {},
   "source": [
    "#### 1.a Initialize Function"
   ]
  },
  {
   "cell_type": "code",
   "execution_count": 8,
   "metadata": {},
   "outputs": [],
   "source": [
    "def n_kron_product(matrix, n):\n",
    "    \"\"\"\n",
    "    calculate kron product of matrix n times. For example, used to expand the single-qubit quantum gate (H, X, ...) to all other qubits\n",
    "    \"\"\"\n",
    "\n",
    "    result = matrix\n",
    "    for i in range(n-1):\n",
    "        result = np.kron(result, matrix)\n",
    "\n",
    "    return result\n",
    "\n",
    "def n_cnot_gate(n):\n",
    "    \"\"\"\n",
    "    construct 2-qubit CNOT gate matrix representation. This code below allowed to customize the control and target qubit to create the corresponding circuits. In general, in this circuit example we will always use the control qubit in the first qubit (0) and the target qubit in the last (n-1)\n",
    "    \"\"\"\n",
    "\n",
    "    dist = n - 2 # distance or the number of qubits between control and target qubit (in this case, always first and last qubit)\n",
    "\n",
    "    sq_X = np.array([[0,1], [1,0]]) # single qubit X gate\n",
    "\n",
    "    N = 2 ** (dist+2)\n",
    "    N_half = int(N/2)\n",
    "\n",
    "    I_half_N = np.identity(N_half)\n",
    "\n",
    "    Zero_half_N = np.zeros((N_half, N_half))\n",
    "\n",
    "    I_quarter_N = np.identity(int(N/4))\n",
    "    right_bottom_matrix = np.kron(I_quarter_N, sq_X)\n",
    "    \n",
    "    # print(\"I_half_N\", I_half_N)\n",
    "    # print(\"Zero_half_N\", Zero_half_N)\n",
    "    # print(\"RB\", right_bottom_matrix)\n",
    "\n",
    "    CX = np.block([[I_half_N, Zero_half_N],\n",
    "                [Zero_half_N, right_bottom_matrix]])\n",
    "\n",
    "    # print(CX)\n",
    "    # print(np.kron(I, CX))  \n",
    "    return CX "
   ]
  },
  {
   "cell_type": "markdown",
   "metadata": {},
   "source": [
    "#### 1.b Initialize Simulator"
   ]
  },
  {
   "cell_type": "code",
   "execution_count": 9,
   "metadata": {},
   "outputs": [],
   "source": [
    "# qubits = 15\n",
    "\n",
    "# Define Single qubit state and gate\n",
    "sq_ket_0 = np.array([1,0])\n",
    "sq_ket_1 = np.array([0,1])\n",
    "\n",
    "sq_I = np.array([[1,0], [0,1]])\n",
    "sq_X = np.array([[0,1], [1,0]])\n",
    "sq_H = 1/np.sqrt(2)*np.array([[1,1], [1,-1]])\n",
    "\n",
    "dq_CNOT = np.array([[1,0,0,0],\n",
    "                    [0,1,0,0],\n",
    "                    [0,0,0,1],\n",
    "                    [0,0,1,0],])\n",
    "\n",
    "\n",
    "\n",
    "def quantum_simulator(qubits):\n",
    "\n",
    "    start_time = time.time()\n",
    "    # Define n qubits quantum gates\n",
    "    n_sq_X = n_kron_product(sq_X, qubits)\n",
    "    n_sq_H = n_kron_product(sq_H, qubits)\n",
    "    n_cnot = n_cnot_gate(qubits)\n",
    "\n",
    "    # Define n qubits statevectors\n",
    "    n_statevector = n_kron_product(sq_ket_0, qubits)\n",
    "    # print(n_statevector)\n",
    "\n",
    "    result = n_cnot @ n_sq_H @ n_sq_X @ n_statevector\n",
    "    end_time = time.time()\n",
    "    runtime = end_time - start_time\n",
    "    # print(result)\n",
    "\n",
    "    return result, runtime"
   ]
  },
  {
   "cell_type": "markdown",
   "metadata": {},
   "source": [
    "#### 1.c Test in 2 and 3 qubits"
   ]
  },
  {
   "cell_type": "code",
   "execution_count": 10,
   "metadata": {},
   "outputs": [
    {
     "name": "stdout",
     "output_type": "stream",
     "text": [
      "Test for simpler version in qubits 2 and 3\n",
      "\n",
      "qubits: 2 , runtime: 0.0008220672607421875 seconds\n",
      "Statevector: [ 0.5 -0.5  0.5 -0.5]\n",
      "\n",
      "qubits: 3 , runtime: 0.00026988983154296875 seconds\n",
      "Statevector: [ 0.35355339 -0.35355339 -0.35355339  0.35355339  0.35355339 -0.35355339\n",
      " -0.35355339  0.35355339]\n"
     ]
    }
   ],
   "source": [
    "qubits_range = np.arange(2,4,1)\n",
    "print(\"Test for simpler version in qubits 2 and 3\")\n",
    "\n",
    "results_range = []\n",
    "runtime_range = []\n",
    "\n",
    "for qubit in qubits_range:\n",
    "    result, runtime = quantum_simulator(qubit)\n",
    "    results_range.append(result)\n",
    "    runtime_range.append(runtime)\n",
    "    print(\"\\nqubits:\", qubit, \", runtime:\", runtime, 'seconds')\n",
    "    print(\"Statevector:\", result)"
   ]
  },
  {
   "cell_type": "markdown",
   "metadata": {},
   "source": [
    "Both of the previous results are the same with the tested results obtained using Qiskit library"
   ]
  },
  {
   "cell_type": "markdown",
   "metadata": {},
   "source": [
    "#### 1.d Simulations"
   ]
  },
  {
   "cell_type": "code",
   "execution_count": 11,
   "metadata": {},
   "outputs": [
    {
     "name": "stdout",
     "output_type": "stream",
     "text": [
      "[ 2  3  4  5  6  7  8  9 10 11 12 13 14 15 16 17 18 19]\n",
      "qubits: 2 , runtime: 0.0011205673217773438\n",
      "qubits: 3 , runtime: 0.0004222393035888672\n",
      "qubits: 4 , runtime: 0.0007808208465576172\n",
      "qubits: 5 , runtime: 0.0003037452697753906\n",
      "qubits: 6 , runtime: 0.00045037269592285156\n",
      "qubits: 7 , runtime: 0.008708000183105469\n",
      "qubits: 8 , runtime: 0.03484296798706055\n",
      "qubits: 9 , runtime: 0.03273773193359375\n",
      "qubits: 10 , runtime: 0.09446549415588379\n",
      "qubits: 11 , runtime: 0.4157431125640869\n",
      "qubits: 12 , runtime: 2.1968576908111572\n",
      "qubits: 13 , runtime: 16.599263429641724\n"
     ]
    },
    {
     "ename": "",
     "evalue": "",
     "output_type": "error",
     "traceback": [
      "\u001b[1;31mThe Kernel crashed while executing code in the current cell or a previous cell. \n",
      "\u001b[1;31mPlease review the code in the cell(s) to identify a possible cause of the failure. \n",
      "\u001b[1;31mClick <a href='https://aka.ms/vscodeJupyterKernelCrash'>here</a> for more info. \n",
      "\u001b[1;31mView Jupyter <a href='command:jupyter.viewOutput'>log</a> for further details."
     ]
    }
   ],
   "source": [
    "qubits_range = np.arange(2,20,1)\n",
    "print(qubits_range)\n",
    "\n",
    "matrix_results_range = []\n",
    "matrix_runtime_range = []\n",
    "\n",
    "for qubit in qubits_range:\n",
    "    result, runtime = quantum_simulator(qubit)\n",
    "    matrix_results_range.append(result)\n",
    "    matrix_runtime_range.append(runtime)\n",
    "    print(\"qubits:\", qubit, \", runtime:\", runtime)"
   ]
  },
  {
   "cell_type": "markdown",
   "metadata": {},
   "source": [
    "From the runtime above, we conclude that matrix multiplication simulators only able to simulate up to 13 qubits. Therefore, the next simulations will only to 13 qubits to obtain the data and plot the charts"
   ]
  },
  {
   "cell_type": "code",
   "execution_count": 11,
   "metadata": {},
   "outputs": [
    {
     "name": "stdout",
     "output_type": "stream",
     "text": [
      "[ 2  3  4  5  6  7  8  9 10 11 12 13]\n",
      "qubits: 2 , runtime: 0.0003211498260498047\n",
      "qubits: 3 , runtime: 0.0007061958312988281\n",
      "qubits: 4 , runtime: 0.0002658367156982422\n",
      "qubits: 5 , runtime: 0.0007512569427490234\n",
      "qubits: 6 , runtime: 0.0004432201385498047\n",
      "qubits: 7 , runtime: 0.008176326751708984\n",
      "qubits: 8 , runtime: 0.020938396453857422\n",
      "qubits: 9 , runtime: 0.030638456344604492\n",
      "qubits: 10 , runtime: 0.11023616790771484\n",
      "qubits: 11 , runtime: 0.6443958282470703\n",
      "qubits: 12 , runtime: 3.345116138458252\n",
      "qubits: 13 , runtime: 24.227020502090454\n"
     ]
    }
   ],
   "source": [
    "qubits_range = np.arange(2,14,1)\n",
    "print(qubits_range)\n",
    "\n",
    "matrix_results_range = []\n",
    "matrix_runtime_range = []\n",
    "\n",
    "for qubit in qubits_range:\n",
    "    result, runtime = quantum_simulator(qubit)\n",
    "    matrix_results_range.append(result)\n",
    "    matrix_runtime_range.append(runtime)\n",
    "    print(\"qubits:\", qubit, \", runtime:\", runtime)"
   ]
  },
  {
   "cell_type": "code",
   "execution_count": 12,
   "metadata": {},
   "outputs": [
    {
     "data": {
      "text/plain": [
       "[<matplotlib.lines.Line2D at 0x7f2902861400>]"
      ]
     },
     "execution_count": 12,
     "metadata": {},
     "output_type": "execute_result"
    },
    {
     "data": {
      "image/png": "[encoded data removed]",
      "text/plain": [
       "<Figure size 640x480 with 1 Axes>"
      ]
     },
     "metadata": {},
     "output_type": "display_data"
    }
   ],
   "source": [
    "plt.plot(qubits_range, matrix_runtime_range)"
   ]
  },
  {
   "cell_type": "markdown",
   "metadata": {},
   "source": [
    "### 2. Advanced Simulation using Tensor Multiplication"
   ]
  },
  {
   "cell_type": "markdown",
   "metadata": {},
   "source": [
    "#### 2.a Initialize Functions"
   ]
  },
  {
   "cell_type": "code",
   "execution_count": 2,
   "metadata": {},
   "outputs": [],
   "source": [
    "H_gate = 1/np.sqrt(2)*np.array([[1,1],\n",
    "                    [1,-1]])\n",
    "\n",
    "X_gate = np.array([[0,1],\n",
    "                   [1,0]])\n",
    "\n",
    "CNOT_gate = np.array([[1,0,0,0],\n",
    "                    [0,1,0,0],\n",
    "                    [0,0,0,1],\n",
    "                    [0,0,1,0]]).reshape(2,2,2,2)\n",
    "\n",
    "def apply_single_qubit_gate(state, gate, target_qubit):\n",
    "\n",
    "    psi_updated = np.tensordot(gate, state, axes=(1,target_qubit))\n",
    "    psi_updated = np.moveaxis(psi_updated, 0, target_qubit)\n",
    "\n",
    "    return psi_updated\n",
    "\n",
    "def apply_cnot_gate(state, target_qubit, control_qubit):\n",
    "\n",
    "    psi_updated = np.tensordot(CNOT_gate, state, ((2,3), (control_qubit, target_qubit)))\n",
    "    psi_updated = np.moveaxis(state, (0,1), (control_qubit, target_qubit))\n",
    "\n",
    "    return psi_updated\n"
   ]
  },
  {
   "cell_type": "markdown",
   "metadata": {},
   "source": [
    "#### 2.b Initialize Simulator"
   ]
  },
  {
   "cell_type": "code",
   "execution_count": 3,
   "metadata": {},
   "outputs": [],
   "source": [
    "def quantum_simulator(N):\n",
    "    \n",
    "    start_time = time.time()\n",
    "\n",
    "    psi = np.zeros((2,)*N)\n",
    "    psi[(0,)*N] = 1 #initiate example state: |000...001> \n",
    "    \n",
    "    for i in range(N): # apply the gate for each qubit\n",
    "        psi = apply_single_qubit_gate(psi, X_gate, i)\n",
    "        psi = apply_single_qubit_gate(psi, H_gate, i)\n",
    "    \n",
    "    psi = apply_cnot_gate(psi, N-1, 0)\n",
    "    \n",
    "    end_time = time.time()\n",
    "    runtime = end_time - start_time\n",
    "\n",
    "    result = psi\n",
    "    \n",
    "    return result, runtime"
   ]
  },
  {
   "cell_type": "markdown",
   "metadata": {},
   "source": [
    "#### 2.c Test in 2 and 3 qubits"
   ]
  },
  {
   "cell_type": "code",
   "execution_count": 22,
   "metadata": {},
   "outputs": [
    {
     "name": "stdout",
     "output_type": "stream",
     "text": [
      "Test for simpler version in qubits 2 and 3\n",
      "\n",
      "qubits: 2 , runtime: 0.0007908344268798828 seconds\n",
      "Statevector: [ 0.5 -0.5 -0.5  0.5]\n",
      "\n",
      "qubits: 3 , runtime: 0.0006918907165527344 seconds\n",
      "Statevector: [ 0.35355339 -0.35355339 -0.35355339  0.35355339 -0.35355339  0.35355339\n",
      "  0.35355339 -0.35355339]\n"
     ]
    }
   ],
   "source": [
    "qubits_range = np.arange(2,4,1)\n",
    "print(\"Test for simpler version in qubits 2 and 3\")\n",
    "\n",
    "results_range = []\n",
    "runtime_range = []\n",
    "\n",
    "for qubit in qubits_range:\n",
    "    result, runtime = quantum_simulator(qubit)\n",
    "    results_range.append(result)\n",
    "    runtime_range.append(runtime)\n",
    "    print(\"\\nqubits:\", qubit, \", runtime:\", runtime, 'seconds')\n",
    "    print(\"Statevector:\", result.flatten())"
   ]
  },
  {
   "cell_type": "markdown",
   "metadata": {},
   "source": [
    "#### 2.d Simulations"
   ]
  },
  {
   "cell_type": "code",
   "execution_count": 25,
   "metadata": {},
   "outputs": [
    {
     "name": "stdout",
     "output_type": "stream",
     "text": [
      "Test for simpler version in qubits 2 and 3\n",
      "qubits: 2 , runtime: 0.0010607242584228516 seconds\n",
      "qubits: 3 , runtime: 0.0004456043243408203 seconds\n",
      "qubits: 4 , runtime: 0.0008835792541503906 seconds\n",
      "qubits: 5 , runtime: 0.0011065006256103516 seconds\n",
      "qubits: 6 , runtime: 0.00021982192993164062 seconds\n",
      "qubits: 7 , runtime: 0.0002391338348388672 seconds\n",
      "qubits: 8 , runtime: 0.000274658203125 seconds\n",
      "qubits: 9 , runtime: 0.00036525726318359375 seconds\n",
      "qubits: 10 , runtime: 0.0003781318664550781 seconds\n",
      "qubits: 11 , runtime: 0.00044608116149902344 seconds\n",
      "qubits: 12 , runtime: 0.0008356571197509766 seconds\n",
      "qubits: 13 , runtime: 0.0008895397186279297 seconds\n",
      "qubits: 14 , runtime: 0.0013322830200195312 seconds\n",
      "qubits: 15 , runtime: 0.0027022361755371094 seconds\n",
      "qubits: 16 , runtime: 0.005671501159667969 seconds\n",
      "qubits: 17 , runtime: 0.017839431762695312 seconds\n",
      "qubits: 18 , runtime: 0.174163818359375 seconds\n"
     ]
    },
    {
     "name": "stdout",
     "output_type": "stream",
     "text": [
      "qubits: 19 , runtime: 0.29311299324035645 seconds\n",
      "qubits: 20 , runtime: 0.46660757064819336 seconds\n",
      "qubits: 21 , runtime: 0.7794327735900879 seconds\n",
      "qubits: 22 , runtime: 1.26377534866333 seconds\n",
      "qubits: 23 , runtime: 2.3559141159057617 seconds\n",
      "qubits: 24 , runtime: 4.319746732711792 seconds\n",
      "qubits: 25 , runtime: 8.034213066101074 seconds\n",
      "qubits: 26 , runtime: 16.070667505264282 seconds\n",
      "qubits: 27 , runtime: 37.98771595954895 seconds\n"
     ]
    },
    {
     "ename": "",
     "evalue": "",
     "output_type": "error",
     "traceback": [
      "\u001b[1;31mThe Kernel crashed while executing code in the current cell or a previous cell. \n",
      "\u001b[1;31mPlease review the code in the cell(s) to identify a possible cause of the failure. \n",
      "\u001b[1;31mClick <a href='https://aka.ms/vscodeJupyterKernelCrash'>here</a> for more info. \n",
      "\u001b[1;31mView Jupyter <a href='command:jupyter.viewOutput'>log</a> for further details."
     ]
    }
   ],
   "source": [
    "tensor_qubits_range = np.arange(2,30,1)\n",
    "print(\"Test for simpler version in qubits 2 and 3\")\n",
    "\n",
    "tensor_results_range = []\n",
    "tensor_runtime_range = []\n",
    "\n",
    "for qubit in tensor_qubits_range:\n",
    "    result, runtime = quantum_simulator(qubit)\n",
    "    tensor_results_range.append(result)\n",
    "    tensor_runtime_range.append(runtime)\n",
    "    print(\"qubits:\", qubit, \", runtime:\", runtime, 'seconds')\n",
    "    # print(\"Statevector:\", result.flatten())F"
   ]
  },
  {
   "cell_type": "markdown",
   "metadata": {},
   "source": [
    "From the results above, we conclude that the maximum number of qubits that can be simulated with tensor multiplication is higher than the matrix multiplication, which is up to 27 qubits. The runtime charts was shown below:"
   ]
  },
  {
   "cell_type": "code",
   "execution_count": 4,
   "metadata": {},
   "outputs": [
    {
     "name": "stdout",
     "output_type": "stream",
     "text": [
      "Test for simpler version in qubits 2 and 3\n",
      "qubits: 2 , runtime: 0.0004458427429199219 seconds\n",
      "qubits: 3 , runtime: 0.00012731552124023438 seconds\n",
      "qubits: 4 , runtime: 0.00012755393981933594 seconds\n",
      "qubits: 5 , runtime: 0.0001556873321533203 seconds\n",
      "qubits: 6 , runtime: 0.00017762184143066406 seconds\n",
      "qubits: 7 , runtime: 0.00020170211791992188 seconds\n",
      "qubits: 8 , runtime: 0.0002765655517578125 seconds\n",
      "qubits: 9 , runtime: 0.0002741813659667969 seconds\n",
      "qubits: 10 , runtime: 0.0003311634063720703 seconds\n",
      "qubits: 11 , runtime: 0.0005033016204833984 seconds\n",
      "qubits: 12 , runtime: 0.0007090568542480469 seconds\n",
      "qubits: 13 , runtime: 0.0013835430145263672 seconds\n",
      "qubits: 14 , runtime: 0.0016002655029296875 seconds\n",
      "qubits: 15 , runtime: 0.0026302337646484375 seconds\n",
      "qubits: 16 , runtime: 0.005429744720458984 seconds\n",
      "qubits: 17 , runtime: 0.03134655952453613 seconds\n",
      "qubits: 18 , runtime: 0.0807042121887207 seconds\n",
      "qubits: 19 , runtime: 0.1698155403137207 seconds\n",
      "qubits: 20 , runtime: 0.2868669033050537 seconds\n",
      "qubits: 21 , runtime: 0.6383740901947021 seconds\n",
      "qubits: 22 , runtime: 1.1999835968017578 seconds\n",
      "qubits: 23 , runtime: 2.1008620262145996 seconds\n",
      "qubits: 24 , runtime: 3.857111930847168 seconds\n",
      "qubits: 25 , runtime: 7.931281089782715 seconds\n",
      "qubits: 26 , runtime: 16.323559999465942 seconds\n",
      "qubits: 27 , runtime: 30.548309564590454 seconds\n"
     ]
    }
   ],
   "source": [
    "tensor_qubits_range = np.arange(2,28,1)\n",
    "print(\"Test for simpler version in qubits 2 and 3\")\n",
    "\n",
    "tensor_results_range = []\n",
    "tensor_runtime_range = []\n",
    "\n",
    "for qubit in tensor_qubits_range:\n",
    "    result, runtime = quantum_simulator(qubit)\n",
    "    tensor_results_range.append(result)\n",
    "    tensor_runtime_range.append(runtime)\n",
    "    print(\"qubits:\", qubit, \", runtime:\", runtime, 'seconds')\n",
    "    # print(\"Statevector:\", result.flatten())F"
   ]
  },
  {
   "cell_type": "code",
   "execution_count": 5,
   "metadata": {},
   "outputs": [
    {
     "data": {
      "text/plain": [
       "[<matplotlib.lines.Line2D at 0x7f2902829bb0>]"
      ]
     },
     "execution_count": 5,
     "metadata": {},
     "output_type": "execute_result"
    },
    {
     "data": {
      "image/png": "[encoded data removed]",
      "text/plain": [
       "<Figure size 640x480 with 1 Axes>"
      ]
     },
     "metadata": {},
     "output_type": "display_data"
    }
   ],
   "source": [
    "plt.plot(tensor_qubits_range, tensor_runtime_range)"
   ]
  },
  {
   "cell_type": "markdown",
   "metadata": {},
   "source": [
    "### == Final Chart Comparison =="
   ]
  },
  {
   "cell_type": "code",
   "execution_count": 15,
   "metadata": {},
   "outputs": [
    {
     "data": {
      "image/png": "[encoded data removed]",
      "text/plain": [
       "<Figure size 640x480 with 1 Axes>"
      ]
     },
     "metadata": {},
     "output_type": "display_data"
    }
   ],
   "source": [
    "# Plotting\n",
    "plt.plot(qubits_range, matrix_runtime_range, label='Matrix Runtime', color='navy')\n",
    "plt.plot(tensor_qubits_range, tensor_runtime_range, label='Tensor Runtime', color='maroon')\n",
    "\n",
    "# Adding legend\n",
    "plt.legend()\n",
    "\n",
    "# Adding labels and title\n",
    "plt.xlabel('Number of Qubits')\n",
    "plt.ylabel('Runtime (seconds)')\n",
    "plt.title('Runtime Comparison of Matrix and Tensor Operations')\n",
    "\n",
    "# Display the plot\n",
    "plt.show()\n"
   ]
  },
  {
   "cell_type": "markdown",
   "metadata": {},
   "source": [
    "It is clear from the chart above that the tensor operations-based simulation can simulate more qubits than the matrix operations simulation. One of the reasons is that, in the matrix simulation, the operations are calculated directly or simultaneously for all circuits using the Kronecker product between operators on each qubit, which results in significantly larger matrices and hence limits the simulation capabilities."
   ]
  },
  {
   "cell_type": "markdown",
   "metadata": {},
   "source": [
    "### 3. Bonus Question"
   ]
  },
  {
   "cell_type": "markdown",
   "metadata": {},
   "source": [
    "### 3.1 Sample From the Final States"
   ]
  },
  {
   "cell_type": "markdown",
   "metadata": {},
   "source": [
    "### 3.2 Computing Exact Expectation Values"
   ]
  }
 ],
 "metadata": {
  "kernelspec": {
   "display_name": "qiskit-1-2",
   "language": "python",
   "name": "python3"
  },
  "language_info": {
   "codemirror_mode": {
    "name": "ipython",
    "version": 3
   },
   "file_extension": ".py",
   "mimetype": "text/x-python",
   "name": "python",
   "nbconvert_exporter": "python",
   "pygments_lexer": "ipython3",
   "version": "3.12.3"
  }
 },
 "nbformat": 4,
 "nbformat_minor": 2
}
