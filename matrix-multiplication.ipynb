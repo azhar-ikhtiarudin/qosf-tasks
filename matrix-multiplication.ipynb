{
 "cells": [
  {
   "cell_type": "markdown",
   "metadata": {},
   "source": [
    "### Import Library"
   ]
  },
  {
   "cell_type": "code",
   "execution_count": 1,
   "metadata": {},
   "outputs": [],
   "source": [
    "import numpy as np"
   ]
  },
  {
   "cell_type": "markdown",
   "metadata": {},
   "source": [
    "### Statevectors"
   ]
  },
  {
   "cell_type": "code",
   "execution_count": 2,
   "metadata": {},
   "outputs": [],
   "source": [
    "ket_0 = np.array([1,0])\n",
    "ket_1 = np.array([0,1])"
   ]
  },
  {
   "cell_type": "markdown",
   "metadata": {},
   "source": [
    "### Quantum gates"
   ]
  },
  {
   "cell_type": "code",
   "execution_count": 3,
   "metadata": {},
   "outputs": [],
   "source": [
    "gate_X = np.array([[0,1], [1,0]])"
   ]
  },
  {
   "cell_type": "code",
   "execution_count": 4,
   "metadata": {},
   "outputs": [
    {
     "data": {
      "text/plain": [
       "array([[0, 1],\n",
       "       [1, 0]])"
      ]
     },
     "execution_count": 4,
     "metadata": {},
     "output_type": "execute_result"
    }
   ],
   "source": [
    "gate_X"
   ]
  },
  {
   "cell_type": "code",
   "execution_count": 5,
   "metadata": {},
   "outputs": [
    {
     "name": "stdout",
     "output_type": "stream",
     "text": [
      "[0 1]\n"
     ]
    }
   ],
   "source": [
    "print(gate_X @ ket_0)"
   ]
  },
  {
   "cell_type": "markdown",
   "metadata": {},
   "source": [
    "### n-qubit quantum state"
   ]
  },
  {
   "cell_type": "code",
   "execution_count": 6,
   "metadata": {},
   "outputs": [
    {
     "name": "stdout",
     "output_type": "stream",
     "text": [
      "[1 0 0 0]\n"
     ]
    }
   ],
   "source": [
    "# number of qubits\n",
    "n = 2\n",
    "\n",
    "n_statevector = np.kron(ket_0, ket_0)\n",
    "print(n_statevector)"
   ]
  },
  {
   "cell_type": "code",
   "execution_count": 7,
   "metadata": {},
   "outputs": [
    {
     "name": "stdout",
     "output_type": "stream",
     "text": [
      "[[0 0 0 1]\n",
      " [0 0 1 0]\n",
      " [0 1 0 0]\n",
      " [1 0 0 0]]\n"
     ]
    }
   ],
   "source": [
    "n_gate_X = np.kron(gate_X, gate_X)\n",
    "print(n_gate_X)"
   ]
  },
  {
   "cell_type": "code",
   "execution_count": 8,
   "metadata": {},
   "outputs": [
    {
     "name": "stdout",
     "output_type": "stream",
     "text": [
      "[[ 0.70710678  0.70710678]\n",
      " [ 0.70710678 -0.70710678]]\n"
     ]
    }
   ],
   "source": [
    "# Hadamard Gate\n",
    "gate_H = 1/np.sqrt(2)*np.array([[1,1],[1,-1]])\n",
    "print(gate_H)"
   ]
  },
  {
   "cell_type": "code",
   "execution_count": 9,
   "metadata": {},
   "outputs": [
    {
     "name": "stdout",
     "output_type": "stream",
     "text": [
      "[[ 0.5  0.5  0.5  0.5]\n",
      " [ 0.5 -0.5  0.5 -0.5]\n",
      " [ 0.5  0.5 -0.5 -0.5]\n",
      " [ 0.5 -0.5 -0.5  0.5]]\n"
     ]
    }
   ],
   "source": [
    "n_gate_H = np.kron(gate_H, gate_H)\n",
    "print(n_gate_H)"
   ]
  },
  {
   "cell_type": "code",
   "execution_count": null,
   "metadata": {},
   "outputs": [],
   "source": [
    "def n_kron_product(matrix, n):\n",
    "    result = matrix\n",
    "    for i in range(n-1):\n",
    "        result = np.kron(result, matrix)\n",
    "    return result"
   ]
  },
  {
   "cell_type": "code",
   "execution_count": 56,
   "metadata": {},
   "outputs": [
    {
     "name": "stdout",
     "output_type": "stream",
     "text": [
      "[[1. 0. 0. 0.]\n",
      " [0. 1. 0. 0.]\n",
      " [0. 0. 0. 1.]\n",
      " [0. 0. 1. 0.]]\n"
     ]
    }
   ],
   "source": [
    "def n_cnot_gate(n):\n",
    "    dist = n - 2 # number of qubits between control and target qubit (in this case, always first and last qubit)\n",
    "\n",
    "    sq_X = np.array([[0,1], [1,0]])\n",
    "\n",
    "    N = 2 ** (dist+2)\n",
    "    N_half = int(N/2)\n",
    "\n",
    "    I_half_N = np.identity(N_half)\n",
    "\n",
    "    Zero_half_N = np.zeros((N_half, N_half))\n",
    "\n",
    "    I_quarter_N = np.identity(int(N/4))\n",
    "    right_bottom_matrix = np.kron(I_quarter_N, sq_X)\n",
    "    \n",
    "    # print(\"I_half_N\", I_half_N)\n",
    "    # print(\"Zero_half_N\", Zero_half_N)\n",
    "    # print(\"RB\", right_bottom_matrix)\n",
    "\n",
    "    CX = np.block([[I_half_N, Zero_half_N],\n",
    "                [Zero_half_N, right_bottom_matrix]])\n",
    "\n",
    "    # print(CX)\n",
    "    # print(np.kron(I, CX))  \n",
    "    return CX \n",
    "\n",
    "n_cnot = n_cnot_gate(2)\n",
    "print(n_cnot)"
   ]
  },
  {
   "cell_type": "code",
   "execution_count": null,
   "metadata": {},
   "outputs": [
    {
     "ename": "NameError",
     "evalue": "name 'np' is not defined",
     "output_type": "error",
     "traceback": [
      "\u001b[0;31m---------------------------------------------------------------------------\u001b[0m",
      "\u001b[0;31mNameError\u001b[0m                                 Traceback (most recent call last)",
      "Cell \u001b[0;32mIn[1], line 4\u001b[0m\n\u001b[1;32m      1\u001b[0m qubits \u001b[38;5;241m=\u001b[39m \u001b[38;5;241m10\u001b[39m\n\u001b[1;32m      3\u001b[0m \u001b[38;5;66;03m# Define Single qubit state and gate\u001b[39;00m\n\u001b[0;32m----> 4\u001b[0m sq_ket_0 \u001b[38;5;241m=\u001b[39m \u001b[43mnp\u001b[49m\u001b[38;5;241m.\u001b[39marray([\u001b[38;5;241m1\u001b[39m,\u001b[38;5;241m0\u001b[39m])\n\u001b[1;32m      5\u001b[0m sq_ket_1 \u001b[38;5;241m=\u001b[39m np\u001b[38;5;241m.\u001b[39marray([\u001b[38;5;241m0\u001b[39m,\u001b[38;5;241m1\u001b[39m])\n\u001b[1;32m      7\u001b[0m sq_I \u001b[38;5;241m=\u001b[39m np\u001b[38;5;241m.\u001b[39marray([[\u001b[38;5;241m1\u001b[39m,\u001b[38;5;241m0\u001b[39m], [\u001b[38;5;241m0\u001b[39m,\u001b[38;5;241m1\u001b[39m]])\n",
      "\u001b[0;31mNameError\u001b[0m: name 'np' is not defined"
     ]
    }
   ],
   "source": [
    "qubits = 10\n",
    "\n",
    "# Define Single qubit state and gate\n",
    "sq_ket_0 = np.array([1,0])\n",
    "sq_ket_1 = np.array([0,1])\n",
    "\n",
    "sq_I = np.array([[1,0], [0,1]])\n",
    "sq_X = np.array([[0,1], [1,0]])\n",
    "sq_H = 1/np.sqrt(2)*np.array([[1,1], [1,-1]])\n",
    "dq_CNOT = np.array([[1,0,0,0],\n",
    "                    [0,1,0,0],\n",
    "                    [0,0,0,1],\n",
    "                    [0,0,1,0],])\n",
    "\n",
    "\n",
    "# Define n qubits quantum gates\n",
    "n_sq_X = n_kron_product(sq_X, qubits)\n",
    "n_sq_H = n_kron_product(sq_H, qubits)\n",
    "n_cnot = n_cnot_gate(qubits)\n",
    "\n",
    "# Define n qubits statevectors\n",
    "n_statevector = n_kron_product(sq_ket_0, qubits)\n",
    "print(n_statevector)\n",
    "\n",
    "result = n_cnot @ n_sq_H @ n_sq_X @ n_statevector\n",
    "\n",
    "print(result)\n"
   ]
  },
  {
   "cell_type": "code",
   "execution_count": 14,
   "metadata": {},
   "outputs": [
    {
     "name": "stdout",
     "output_type": "stream",
     "text": [
      "X gate on the 2nd qubit in a 3-qubit system:\n",
      " [[0 0 1 0 0 0 0 0]\n",
      " [0 0 0 1 0 0 0 0]\n",
      " [1 0 0 0 0 0 0 0]\n",
      " [0 1 0 0 0 0 0 0]\n",
      " [0 0 0 0 0 0 1 0]\n",
      " [0 0 0 0 0 0 0 1]\n",
      " [0 0 0 0 1 0 0 0]\n",
      " [0 0 0 0 0 1 0 0]]\n"
     ]
    }
   ],
   "source": [
    "def apply_x_on_kth_qubit(n, k):\n",
    "    I = np.array([[1, 0], [0, 1]])\n",
    "    X = np.array([[0, 1], [1, 0]])\n",
    "    \n",
    "    # Initialize the result as identity\n",
    "    result = 1\n",
    "    for i in range(n):\n",
    "        if i == k:\n",
    "            result = np.kron(result, X)\n",
    "        else:\n",
    "            result = np.kron(result, I)\n",
    "    return result\n",
    "\n",
    "# Example: Apply X on the 2nd qubit in a 3-qubit system\n",
    "n = 3\n",
    "k = 1\n",
    "x_on_2nd_qubit = apply_x_on_kth_qubit(n, k)\n",
    "print(\"X gate on the 2nd qubit in a 3-qubit system:\\n\", x_on_2nd_qubit)\n"
   ]
  },
  {
   "cell_type": "code",
   "execution_count": 18,
   "metadata": {},
   "outputs": [
    {
     "name": "stdout",
     "output_type": "stream",
     "text": [
      "[[1. 0. 0. 0. 0. 0. 0. 0.]\n",
      " [0. 1. 0. 0. 0. 0. 0. 0.]\n",
      " [0. 0. 1. 0. 0. 0. 0. 0.]\n",
      " [0. 0. 0. 1. 0. 0. 0. 0.]\n",
      " [0. 0. 0. 0. 1. 1. 0. 0.]\n",
      " [0. 0. 0. 0. 1. 1. 0. 0.]\n",
      " [0. 0. 0. 0. 0. 0. 1. 1.]\n",
      " [0. 0. 0. 0. 0. 0. 1. 1.]]\n"
     ]
    }
   ],
   "source": [
    "import numpy as np\n",
    "\n",
    "def cnot_matrix(n, control_qubit, target_qubit):\n",
    "    # Initialize the CNOT matrix as an identity matrix\n",
    "    cnot_mat = np.eye(2**n)\n",
    "    \n",
    "    # Construct the CNOT matrix\n",
    "    for i in range(2**n):\n",
    "        # Convert the index to binary representation\n",
    "        bin_i = f\"{i:0{n}b}\"\n",
    "        # Determine control and target qubit states\n",
    "        control_state = int(bin_i[control_qubit])\n",
    "        target_state = int(bin_i[target_qubit])\n",
    "        \n",
    "        # If control qubit is |1⟩, flip the target qubit\n",
    "        if control_state == 1:\n",
    "            # Flip the target qubit by toggling its state\n",
    "            new_target_state = 1 - target_state\n",
    "            # Create new index with the target qubit flipped\n",
    "            new_bin_i = list(bin_i)\n",
    "            new_bin_i[target_qubit] = str(new_target_state)\n",
    "            new_index = int(''.join(new_bin_i), 2)\n",
    "            \n",
    "            # Set the corresponding entry in the CNOT matrix\n",
    "            cnot_mat[i, new_index] = 1\n",
    "            cnot_mat[new_index, i] = 1  # Ensure symmetry for the two states\n",
    "    \n",
    "    return cnot_mat\n",
    "\n",
    "# Example usage for a 3-qubit CNOT gate\n",
    "n = 3  # Total qubits\n",
    "control_qubit = 0  # First qubit as control\n",
    "target_qubit = 2   # Second qubit as target\n",
    "\n",
    "cnot_gate = cnot_matrix(n, control_qubit, target_qubit)\n",
    "print(cnot_gate)\n"
   ]
  },
  {
   "cell_type": "code",
   "execution_count": 20,
   "metadata": {},
   "outputs": [
    {
     "name": "stdout",
     "output_type": "stream",
     "text": [
      "Matrix A:\n",
      "[[1 0 0 0]\n",
      " [0 1 0 0]\n",
      " [0 0 0 1]\n",
      " [0 0 1 0]]\n"
     ]
    }
   ],
   "source": [
    "import numpy as np\n",
    "\n",
    "# Define the matrices for the gates\n",
    "I = np.array([[1, 0], [0, 1]])  # Identity gate (2x2 matrix)\n",
    "zero_gate = np.array([[0, 0], [0, 0]])  # Zero gate (2x2 matrix)\n",
    "X = np.array([[0, 1], [1, 0]])  # Pauli-X gate (2x2 matrix)\n",
    "\n",
    "# Construct the block matrix A\n",
    "A = np.block([[I, zero_gate], \n",
    "               [zero_gate, X]])\n",
    "\n",
    "# Display the matrix A in general format\n",
    "print(\"Matrix A:\")\n",
    "print(A)"
   ]
  },
  {
   "cell_type": "markdown",
   "metadata": {},
   "source": [
    "Implementation of generalized controlled gate U with n qubits between the control qubit and target qubit:"
   ]
  },
  {
   "cell_type": "code",
   "execution_count": null,
   "metadata": {},
   "outputs": [
    {
     "name": "stdout",
     "output_type": "stream",
     "text": [
      "[[1. 0.]\n",
      " [0. 1.]]\n",
      "[[0. 0.]\n",
      " [0. 0.]]\n",
      "[[0. 1.]\n",
      " [1. 0.]]\n",
      "[[1. 0. 0. 0.]\n",
      " [0. 1. 0. 0.]\n",
      " [0. 0. 0. 1.]\n",
      " [0. 0. 1. 0.]]\n",
      "[[1. 0. 0. 0. 0. 0. 0. 0.]\n",
      " [0. 1. 0. 0. 0. 0. 0. 0.]\n",
      " [0. 0. 0. 1. 0. 0. 0. 0.]\n",
      " [0. 0. 1. 0. 0. 0. 0. 0.]\n",
      " [0. 0. 0. 0. 1. 0. 0. 0.]\n",
      " [0. 0. 0. 0. 0. 1. 0. 0.]\n",
      " [0. 0. 0. 0. 0. 0. 0. 1.]\n",
      " [0. 0. 0. 0. 0. 0. 1. 0.]]\n"
     ]
    }
   ],
   "source": []
  }
 ],
 "metadata": {
  "kernelspec": {
   "display_name": "quantum-dev-2",
   "language": "python",
   "name": "python3"
  },
  "language_info": {
   "codemirror_mode": {
    "name": "ipython",
    "version": 3
   },
   "file_extension": ".py",
   "mimetype": "text/x-python",
   "name": "python",
   "nbconvert_exporter": "python",
   "pygments_lexer": "ipython3",
   "version": "3.11.8"
  }
 },
 "nbformat": 4,
 "nbformat_minor": 2
}
