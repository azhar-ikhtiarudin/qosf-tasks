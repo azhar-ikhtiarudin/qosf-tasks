{
 "cells": [
  {
   "cell_type": "code",
   "execution_count": 2,
   "metadata": {},
   "outputs": [],
   "source": [
    "import time\n",
    "import numpy as np"
   ]
  },
  {
   "cell_type": "code",
   "execution_count": 3,
   "metadata": {},
   "outputs": [],
   "source": [
    "def n_kron_product(matrix, n):\n",
    "    result = matrix\n",
    "    for i in range(n-1):\n",
    "        result = np.kron(result, matrix)\n",
    "    return result\n",
    "\n",
    "def n_cnot_gate(n):\n",
    "    dist = n - 2 # number of qubits between control and target qubit (in this case, always first and last qubit)\n",
    "\n",
    "    sq_X = np.array([[0,1], [1,0]])\n",
    "\n",
    "    N = 2 ** (dist+2)\n",
    "    N_half = int(N/2)\n",
    "\n",
    "    I_half_N = np.identity(N_half)\n",
    "\n",
    "    Zero_half_N = np.zeros((N_half, N_half))\n",
    "\n",
    "    I_quarter_N = np.identity(int(N/4))\n",
    "    right_bottom_matrix = np.kron(I_quarter_N, sq_X)\n",
    "    \n",
    "    # print(\"I_half_N\", I_half_N)\n",
    "    # print(\"Zero_half_N\", Zero_half_N)\n",
    "    # print(\"RB\", right_bottom_matrix)\n",
    "\n",
    "    CX = np.block([[I_half_N, Zero_half_N],\n",
    "                [Zero_half_N, right_bottom_matrix]])\n",
    "\n",
    "    # print(CX)\n",
    "    # print(np.kron(I, CX))  \n",
    "    return CX "
   ]
  },
  {
   "cell_type": "code",
   "execution_count": 5,
   "metadata": {},
   "outputs": [],
   "source": [
    "# qubits = 15\n",
    "\n",
    "# Define Single qubit state and gate\n",
    "sq_ket_0 = np.array([1,0])\n",
    "sq_ket_1 = np.array([0,1])\n",
    "\n",
    "sq_I = np.array([[1,0], [0,1]])\n",
    "sq_X = np.array([[0,1], [1,0]])\n",
    "sq_H = 1/np.sqrt(2)*np.array([[1,1], [1,-1]])\n",
    "dq_CNOT = np.array([[1,0,0,0],\n",
    "                    [0,1,0,0],\n",
    "                    [0,0,0,1],\n",
    "                    [0,0,1,0],])\n",
    "\n",
    "\n",
    "\n",
    "def quantum_simulator(qubits):\n",
    "\n",
    "    start_time = time.time()\n",
    "    # Define n qubits quantum gates\n",
    "    n_sq_X = n_kron_product(sq_X, qubits)\n",
    "    n_sq_H = n_kron_product(sq_H, qubits)\n",
    "    n_cnot = n_cnot_gate(qubits)\n",
    "\n",
    "    # Define n qubits statevectors\n",
    "    n_statevector = n_kron_product(sq_ket_0, qubits)\n",
    "    # print(n_statevector)\n",
    "\n",
    "    result = n_cnot @ n_sq_H @ n_sq_X @ n_statevector\n",
    "    end_time = time.time()\n",
    "    runtime = end_time - start_time\n",
    "    # print(result)\n",
    "\n",
    "    return result, runtime\n",
    "\n"
   ]
  },
  {
   "cell_type": "code",
   "execution_count": null,
   "metadata": {},
   "outputs": [
    {
     "name": "stdout",
     "output_type": "stream",
     "text": [
      "[ 2  3  4  5  6  7  8  9 10 11 12 13]\n",
      "qubits: 2 , runtime: 0.0006308555603027344\n",
      "qubits: 3 , runtime: 0.0009446144104003906\n",
      "qubits: 4 , runtime: 0.001344442367553711\n",
      "qubits: 5 , runtime: 0.001481771469116211\n",
      "qubits: 6 , runtime: 0.0016176700592041016\n",
      "qubits: 7 , runtime: 0.009150505065917969\n",
      "qubits: 8 , runtime: 0.036102294921875\n",
      "qubits: 9 , runtime: 0.04677534103393555\n",
      "qubits: 10 , runtime: 0.18218135833740234\n",
      "qubits: 11 , runtime: 0.7524557113647461\n",
      "qubits: 12 , runtime: 4.090689182281494\n",
      "qubits: 13 , runtime: 26.79066300392151\n"
     ]
    }
   ],
   "source": [
    "qubits_range = np.arange(2,14,1)\n",
    "print(qubits_range)\n",
    "\n",
    "results_range = []\n",
    "runtime_range = []\n",
    "\n",
    "for qubit in qubits_range:\n",
    "    result, runtime = quantum_simulator(qubit)\n",
    "    results_range.append(result)\n",
    "    runtime_range.append(runtime)\n",
    "    print(\"qubits:\", qubit, \", runtime:\", runtime)"
   ]
  },
  {
   "cell_type": "code",
   "execution_count": 6,
   "metadata": {},
   "outputs": [
    {
     "name": "stdout",
     "output_type": "stream",
     "text": [
      "[14 15]\n"
     ]
    },
    {
     "ename": "",
     "evalue": "",
     "output_type": "error",
     "traceback": [
      "\u001b[1;31mThe Kernel crashed while executing code in the current cell or a previous cell. \n",
      "\u001b[1;31mPlease review the code in the cell(s) to identify a possible cause of the failure. \n",
      "\u001b[1;31mClick <a href='https://aka.ms/vscodeJupyterKernelCrash'>here</a> for more info. \n",
      "\u001b[1;31mView Jupyter <a href='command:jupyter.viewOutput'>log</a> for further details."
     ]
    }
   ],
   "source": [
    "qubits_range = np.arange(14,16,1)\n",
    "print(qubits_range)\n",
    "\n",
    "results_range = []\n",
    "runtime_range = []\n",
    "\n",
    "for qubit in qubits_range:\n",
    "    result, runtime = quantum_simulator(qubit)\n",
    "    results_range.append(result)\n",
    "    runtime_range.append(runtime)\n",
    "    print(\"qubits:\", qubit, \", runtime:\", runtime)"
   ]
  },
  {
   "cell_type": "code",
   "execution_count": 6,
   "metadata": {},
   "outputs": [
    {
     "name": "stdout",
     "output_type": "stream",
     "text": [
      "[ 2  3  4  5  6  7  8  9 10 11 12 13 14 15]\n",
      "qubits: 2 , runtime: 0.0031213760375976562\n",
      "qubits: 3 , runtime: 0.0012922286987304688\n",
      "qubits: 4 , runtime: 0.0007071495056152344\n",
      "qubits: 5 , runtime: 0.0006320476531982422\n",
      "qubits: 6 , runtime: 0.0010907649993896484\n",
      "qubits: 7 , runtime: 0.03438544273376465\n",
      "qubits: 8 , runtime: 0.027975082397460938\n",
      "qubits: 9 , runtime: 0.05743265151977539\n",
      "qubits: 10 , runtime: 0.15770530700683594\n",
      "qubits: 11 , runtime: 0.6224966049194336\n",
      "qubits: 12 , runtime: 3.540508508682251\n",
      "qubits: 13 , runtime: 24.29458785057068\n"
     ]
    },
    {
     "ename": "",
     "evalue": "",
     "output_type": "error",
     "traceback": [
      "\u001b[1;31mThe Kernel crashed while executing code in the current cell or a previous cell. \n",
      "\u001b[1;31mPlease review the code in the cell(s) to identify a possible cause of the failure. \n",
      "\u001b[1;31mClick <a href='https://aka.ms/vscodeJupyterKernelCrash'>here</a> for more info. \n",
      "\u001b[1;31mView Jupyter <a href='command:jupyter.viewOutput'>log</a> for further details."
     ]
    }
   ],
   "source": [
    "qubits_range = np.arange(2,16,1)\n",
    "print(qubits_range)\n",
    "\n",
    "results_range = []\n",
    "runtime_range = []\n",
    "\n",
    "for qubit in qubits_range:\n",
    "    result, runtime = quantum_simulator(qubit)\n",
    "    results_range.append(result)\n",
    "    runtime_range.append(runtime)\n",
    "    print(\"qubits:\", qubit, \", runtime:\", runtime)"
   ]
  },
  {
   "cell_type": "code",
   "execution_count": null,
   "metadata": {},
   "outputs": [],
   "source": [
    "print(runtime_range)"
   ]
  },
  {
   "cell_type": "code",
   "execution_count": 18,
   "metadata": {},
   "outputs": [
    {
     "data": {
      "text/plain": [
       "[<matplotlib.lines.Line2D at 0x7fafa4519ed0>]"
      ]
     },
     "execution_count": 18,
     "metadata": {},
     "output_type": "execute_result"
    },
    {
     "data": {
      "image/png": "[encoded data removed]",
      "text/plain": [
       "<Figure size 640x480 with 1 Axes>"
      ]
     },
     "metadata": {},
     "output_type": "display_data"
    }
   ],
   "source": [
    "import matplotlib.pyplot as plt\n",
    "plt.plot(qubits_range, runtime_range)"
   ]
  }
 ],
 "metadata": {
  "kernelspec": {
   "display_name": "quantum-dev-2",
   "language": "python",
   "name": "python3"
  },
  "language_info": {
   "codemirror_mode": {
    "name": "ipython",
    "version": 3
   },
   "file_extension": ".py",
   "mimetype": "text/x-python",
   "name": "python",
   "nbconvert_exporter": "python",
   "pygments_lexer": "ipython3",
   "version": "3.11.8"
  }
 },
 "nbformat": 4,
 "nbformat_minor": 2
}
