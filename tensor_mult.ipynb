{
 "cells": [
  {
   "cell_type": "markdown",
   "metadata": {},
   "source": [
    "Using the Kronecker product and the np.kron function in numpy (we are using it as an example, but you can use any library you want to), you can create a vector of length 2^n representing an n-qubit quantum state, and matrix representation of X, H, and CNOT gates."
   ]
  },
  {
   "cell_type": "code",
   "execution_count": 2,
   "metadata": {},
   "outputs": [
    {
     "name": "stdout",
     "output_type": "stream",
     "text": [
      "[ 0.  1.  2.  3.  4.  5.  6.  7.  8.  9. 10. 11. 12. 13. 14. 15. 16. 17.\n",
      " 18. 19. 20. 21. 22. 23. 24. 25. 26. 27. 28. 29. 30. 31. 32. 33. 34. 35.\n",
      " 36. 37. 38. 39. 40. 41. 42. 43. 44. 45. 46. 47. 48. 49. 50. 51. 52. 53.\n",
      " 54. 55. 56. 57. 58. 59.] \n",
      "\n",
      "[[[ 0.  1.  2.  3.  4.]\n",
      "  [ 5.  6.  7.  8.  9.]\n",
      "  [10. 11. 12. 13. 14.]\n",
      "  [15. 16. 17. 18. 19.]]\n",
      "\n",
      " [[20. 21. 22. 23. 24.]\n",
      "  [25. 26. 27. 28. 29.]\n",
      "  [30. 31. 32. 33. 34.]\n",
      "  [35. 36. 37. 38. 39.]]\n",
      "\n",
      " [[40. 41. 42. 43. 44.]\n",
      "  [45. 46. 47. 48. 49.]\n",
      "  [50. 51. 52. 53. 54.]\n",
      "  [55. 56. 57. 58. 59.]]]\n",
      "[[4400. 4730.]\n",
      " [4532. 4874.]\n",
      " [4664. 5018.]\n",
      " [4796. 5162.]\n",
      " [4928. 5306.]]\n"
     ]
    }
   ],
   "source": [
    "import numpy as np\n",
    "\n",
    "a = np.arange(60.)\n",
    "print(a,'\\n') # a = [ [ [ x x x x x ],[],[],[]  ], [], [] ]\n",
    "a = np.arange(60.).reshape(3,4,5)\n",
    "print(a)\n",
    "\n",
    "b = np.arange(24.).reshape(4,3,2)\n",
    "c = np.tensordot(a,b, axes=([1,0],[0,1]))\n",
    "\n",
    "print(c)"
   ]
  },
  {
   "cell_type": "code",
   "execution_count": 3,
   "metadata": {},
   "outputs": [
    {
     "name": "stdout",
     "output_type": "stream",
     "text": [
      "[1 0 0 0 0 0 0 0]\n",
      "[[1 0]\n",
      " [0 0]\n",
      " [0 0]\n",
      " [0 0]]\n"
     ]
    }
   ],
   "source": [
    "N = 3\n",
    "\n",
    "ket_zero = np.array([1,0])\n",
    "ket_one = np.array([0,1])\n",
    "\n",
    "three_qubit_state = np.kron(ket_zero, np.kron(ket_zero, ket_zero))\n",
    "\n",
    "print(three_qubit_state)\n",
    "\n",
    "state = three_qubit_state.reshape(4,2)\n",
    "print(state)"
   ]
  },
  {
   "cell_type": "code",
   "execution_count": 5,
   "metadata": {},
   "outputs": [],
   "source": [
    "# a = state.reshape(2,2)\n",
    "# print(a)"
   ]
  },
  {
   "cell_type": "code",
   "execution_count": 7,
   "metadata": {},
   "outputs": [
    {
     "data": {
      "text/plain": [
       "array([[ 0.70710678,  0.70710678],\n",
       "       [ 0.70710678, -0.70710678]])"
      ]
     },
     "execution_count": 7,
     "metadata": {},
     "output_type": "execute_result"
    }
   ],
   "source": [
    "H = (1 / np.sqrt(2)) * np.array([[1, 1], [1, -1]])\n",
    "H"
   ]
  },
  {
   "cell_type": "code",
   "execution_count": 29,
   "metadata": {},
   "outputs": [
    {
     "name": "stdout",
     "output_type": "stream",
     "text": [
      "[[0 1]\n",
      " [0 0]]\n",
      "\n",
      "Updated State:\n",
      "[[0.         0.        ]\n",
      " [0.70710678 0.70710678]]\n",
      "\n",
      "Updated State:\n",
      "[[0.70710678 0.        ]\n",
      " [0.70710678 0.        ]]\n"
     ]
    }
   ],
   "source": [
    "import numpy as np\n",
    "\n",
    "# Define basis gate (computational)\n",
    "zero = np.array([1,0])\n",
    "one = np.array([0,1])\n",
    "\n",
    "\n",
    "# Define ket 0 state\n",
    "state = np.tensordot(zero, one, axes=0)\n",
    "print(state)\n",
    "\n",
    "\n",
    "# Define 1-qubit quantum gate\n",
    "H = (1 / np.sqrt(2)) * np.array([[1, 1], [1, -1]])\n",
    "X = np.array([[0,1],[1,0]])\n",
    "\n",
    "\n",
    "updated_state = np.tensordot(state, H, axes=([0], [0]))\n",
    "print(\"\\nUpdated State:\")\n",
    "print(updated_state)\n",
    "\n",
    "\n",
    "updated_state_2 = np.tensordot(updated_state, X, axes=([0], [0]))\n",
    "print(\"\\nUpdated State:\")\n",
    "print(updated_state_2)"
   ]
  },
  {
   "cell_type": "code",
   "execution_count": 23,
   "metadata": {},
   "outputs": [
    {
     "name": "stdout",
     "output_type": "stream",
     "text": [
      "[[[0 1]\n",
      "  [0 0]]\n",
      "\n",
      " [[0 0]\n",
      "  [0 0]]]\n",
      "[[[0.         0.        ]\n",
      "  [0.70710678 0.70710678]]\n",
      "\n",
      " [[0.         0.        ]\n",
      "  [0.         0.        ]]]\n"
     ]
    }
   ],
   "source": [
    "state = np.tensordot(np.tensordot(zero, zero, axes=0), one, axes=0)\n",
    "print(state)\n",
    "\n",
    "updated_state = np.tensordot(state, H, axes=([0],[0]))\n",
    "print(updated_state)"
   ]
  },
  {
   "cell_type": "code",
   "execution_count": 25,
   "metadata": {},
   "outputs": [
    {
     "data": {
      "text/plain": [
       "array([[0, 1],\n",
       "       [0, 0]])"
      ]
     },
     "execution_count": 25,
     "metadata": {},
     "output_type": "execute_result"
    }
   ],
   "source": [
    "psi = np.array([0,1,0,0]).reshape(2,2)\n",
    "psi"
   ]
  },
  {
   "cell_type": "code",
   "execution_count": 27,
   "metadata": {},
   "outputs": [
    {
     "data": {
      "text/plain": [
       "array([[0, 0],\n",
       "       [0, 1]])"
      ]
     },
     "execution_count": 27,
     "metadata": {},
     "output_type": "execute_result"
    }
   ],
   "source": [
    "result = np.tensordot(X, psi, axes=(1, 0))\n",
    "result"
   ]
  },
  {
   "cell_type": "code",
   "execution_count": 28,
   "metadata": {},
   "outputs": [
    {
     "data": {
      "text/plain": [
       "array([[1, 0],\n",
       "       [0, 0]])"
      ]
     },
     "execution_count": 28,
     "metadata": {},
     "output_type": "execute_result"
    }
   ],
   "source": [
    "result = np.tensordot(psi, X, axes=(1, 0))\n",
    "result"
   ]
  },
  {
   "cell_type": "markdown",
   "metadata": {},
   "source": [
    "# Three Qubit"
   ]
  },
  {
   "cell_type": "code",
   "execution_count": 46,
   "metadata": {},
   "outputs": [
    {
     "data": {
      "text/plain": [
       "array([[[0, 1],\n",
       "        [0, 0]],\n",
       "\n",
       "       [[0, 0],\n",
       "        [0, 0]]])"
      ]
     },
     "execution_count": 46,
     "metadata": {},
     "output_type": "execute_result"
    }
   ],
   "source": [
    "tqs = np.tensordot(np.tensordot(zero, zero, axes=0), one, axes=0)\n",
    "tqs"
   ]
  },
  {
   "cell_type": "code",
   "execution_count": 53,
   "metadata": {},
   "outputs": [
    {
     "name": "stdout",
     "output_type": "stream",
     "text": [
      "Three-qubit state |000⟩:\n"
     ]
    },
    {
     "data": {
      "text/plain": [
       "array([[[0, 1],\n",
       "        [0, 0]],\n",
       "\n",
       "       [[0, 0],\n",
       "        [0, 0]]])"
      ]
     },
     "execution_count": 53,
     "metadata": {},
     "output_type": "execute_result"
    }
   ],
   "source": [
    "import numpy as np\n",
    "\n",
    "# Define the basis states for a single qubit\n",
    "ket_0 = np.array([1, 0])\n",
    "ket_1 = np.array([0, 1])\n",
    "\n",
    "# Define a function to compute the tensor product for n qubits\n",
    "def tensor_product(*kets):\n",
    "    result = kets[0]\n",
    "    for ket in kets[1:]:\n",
    "        result = np.tensordot(result, ket, axes=0)\n",
    "        # result = result.flatten()  # Flatten to maintain a 1D array\n",
    "    return result\n",
    "\n",
    "# Example: Create the state |000⟩\n",
    "tqs = tensor_product(ket_0, ket_0, ket_1)\n",
    "\n",
    "# Print the result\n",
    "print(\"Three-qubit state |000⟩:\")\n",
    "tqs"
   ]
  },
  {
   "cell_type": "markdown",
   "metadata": {},
   "source": [
    "Apply to the first qubit"
   ]
  },
  {
   "cell_type": "code",
   "execution_count": 54,
   "metadata": {},
   "outputs": [
    {
     "data": {
      "text/plain": [
       "array([[[0, 0],\n",
       "        [0, 0]],\n",
       "\n",
       "       [[0, 1],\n",
       "        [0, 0]]])"
      ]
     },
     "execution_count": 54,
     "metadata": {},
     "output_type": "execute_result"
    }
   ],
   "source": [
    "tqs_2 = tensor_product(ket_1, ket_0, ket_1)\n",
    "tqs_2"
   ]
  },
  {
   "cell_type": "code",
   "execution_count": 66,
   "metadata": {},
   "outputs": [
    {
     "name": "stdout",
     "output_type": "stream",
     "text": [
      "[[[0 0]\n",
      "  [0 0]]\n",
      "\n",
      " [[0 1]\n",
      "  [0 0]]]\n"
     ]
    }
   ],
   "source": [
    "new_state = np.tensordot(X, tqs, axes=([1],[0]))\n",
    "print(new_state)"
   ]
  },
  {
   "cell_type": "markdown",
   "metadata": {},
   "source": [
    "Apply to the second qubit"
   ]
  },
  {
   "cell_type": "code",
   "execution_count": 64,
   "metadata": {},
   "outputs": [
    {
     "name": "stdout",
     "output_type": "stream",
     "text": [
      "[[[0 0]\n",
      "  [0 1]]\n",
      "\n",
      " [[0 0]\n",
      "  [0 0]]]\n"
     ]
    }
   ],
   "source": [
    "new_state = np.tensordot(tqs, X, axes=([1],[0]))\n",
    "print(new_state)"
   ]
  },
  {
   "cell_type": "code",
   "execution_count": 57,
   "metadata": {},
   "outputs": [
    {
     "data": {
      "text/plain": [
       "array([[[0, 0],\n",
       "        [0, 1]],\n",
       "\n",
       "       [[0, 0],\n",
       "        [0, 0]]])"
      ]
     },
     "execution_count": 57,
     "metadata": {},
     "output_type": "execute_result"
    }
   ],
   "source": [
    "tqs_3 = tensor_product(ket_0, ket_1, ket_1)\n",
    "tqs_3"
   ]
  },
  {
   "cell_type": "markdown",
   "metadata": {},
   "source": [
    "Apply to the third qubit"
   ]
  },
  {
   "cell_type": "code",
   "execution_count": 59,
   "metadata": {},
   "outputs": [
    {
     "name": "stdout",
     "output_type": "stream",
     "text": [
      "[[[1 0]\n",
      "  [0 0]]\n",
      "\n",
      " [[0 0]\n",
      "  [0 0]]]\n"
     ]
    }
   ],
   "source": [
    "new_state = np.tensordot(tqs, X, axes=([2], [0]))\n",
    "print(new_state)"
   ]
  },
  {
   "cell_type": "code",
   "execution_count": 60,
   "metadata": {},
   "outputs": [
    {
     "data": {
      "text/plain": [
       "array([[[1, 0],\n",
       "        [0, 0]],\n",
       "\n",
       "       [[0, 0],\n",
       "        [0, 0]]])"
      ]
     },
     "execution_count": 60,
     "metadata": {},
     "output_type": "execute_result"
    }
   ],
   "source": [
    "tqs_4 = tensor_product(ket_0, ket_0, ket_0)\n",
    "tqs_4"
   ]
  }
 ],
 "metadata": {
  "kernelspec": {
   "display_name": "quantum-dev-2",
   "language": "python",
   "name": "python3"
  },
  "language_info": {
   "codemirror_mode": {
    "name": "ipython",
    "version": 3
   },
   "file_extension": ".py",
   "mimetype": "text/x-python",
   "name": "python",
   "nbconvert_exporter": "python",
   "pygments_lexer": "ipython3",
   "version": "3.11.8"
  }
 },
 "nbformat": 4,
 "nbformat_minor": 2
}
