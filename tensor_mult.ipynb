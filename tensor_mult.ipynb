{
 "cells": [
  {
   "cell_type": "markdown",
   "metadata": {},
   "source": [
    "Using the Kronecker product and the np.kron function in numpy (we are using it as an example, but you can use any library you want to), you can create a vector of length 2^n representing an n-qubit quantum state, and matrix representation of X, H, and CNOT gates."
   ]
  },
  {
   "cell_type": "code",
   "execution_count": 2,
   "metadata": {},
   "outputs": [
    {
     "name": "stdout",
     "output_type": "stream",
     "text": [
      "[ 0.  1.  2.  3.  4.  5.  6.  7.  8.  9. 10. 11. 12. 13. 14. 15. 16. 17.\n",
      " 18. 19. 20. 21. 22. 23. 24. 25. 26. 27. 28. 29. 30. 31. 32. 33. 34. 35.\n",
      " 36. 37. 38. 39. 40. 41. 42. 43. 44. 45. 46. 47. 48. 49. 50. 51. 52. 53.\n",
      " 54. 55. 56. 57. 58. 59.] \n",
      "\n",
      "[[[ 0.  1.  2.  3.  4.]\n",
      "  [ 5.  6.  7.  8.  9.]\n",
      "  [10. 11. 12. 13. 14.]\n",
      "  [15. 16. 17. 18. 19.]]\n",
      "\n",
      " [[20. 21. 22. 23. 24.]\n",
      "  [25. 26. 27. 28. 29.]\n",
      "  [30. 31. 32. 33. 34.]\n",
      "  [35. 36. 37. 38. 39.]]\n",
      "\n",
      " [[40. 41. 42. 43. 44.]\n",
      "  [45. 46. 47. 48. 49.]\n",
      "  [50. 51. 52. 53. 54.]\n",
      "  [55. 56. 57. 58. 59.]]]\n",
      "[[4400. 4730.]\n",
      " [4532. 4874.]\n",
      " [4664. 5018.]\n",
      " [4796. 5162.]\n",
      " [4928. 5306.]]\n"
     ]
    }
   ],
   "source": [
    "import numpy as np\n",
    "\n",
    "a = np.arange(60.)\n",
    "print(a,'\\n') # a = [ [ [ x x x x x ],[],[],[]  ], [], [] ]\n",
    "a = np.arange(60.).reshape(3,4,5)\n",
    "print(a)\n",
    "\n",
    "b = np.arange(24.).reshape(4,3,2)\n",
    "c = np.tensordot(a,b, axes=([1,0],[0,1]))\n",
    "\n",
    "print(c)"
   ]
  },
  {
   "cell_type": "code",
   "execution_count": 3,
   "metadata": {},
   "outputs": [
    {
     "name": "stdout",
     "output_type": "stream",
     "text": [
      "[1 0 0 0 0 0 0 0]\n",
      "[[1 0]\n",
      " [0 0]\n",
      " [0 0]\n",
      " [0 0]]\n"
     ]
    }
   ],
   "source": [
    "N = 3\n",
    "\n",
    "ket_zero = np.array([1,0])\n",
    "ket_one = np.array([0,1])\n",
    "\n",
    "three_qubit_state = np.kron(ket_zero, np.kron(ket_zero, ket_zero))\n",
    "\n",
    "print(three_qubit_state)\n",
    "\n",
    "state = three_qubit_state.reshape(4,2)\n",
    "print(state)"
   ]
  },
  {
   "cell_type": "code",
   "execution_count": 5,
   "metadata": {},
   "outputs": [],
   "source": [
    "# a = state.reshape(2,2)\n",
    "# print(a)"
   ]
  },
  {
   "cell_type": "code",
   "execution_count": 7,
   "metadata": {},
   "outputs": [
    {
     "data": {
      "text/plain": [
       "array([[ 0.70710678,  0.70710678],\n",
       "       [ 0.70710678, -0.70710678]])"
      ]
     },
     "execution_count": 7,
     "metadata": {},
     "output_type": "execute_result"
    }
   ],
   "source": [
    "H = (1 / np.sqrt(2)) * np.array([[1, 1], [1, -1]])\n",
    "H"
   ]
  },
  {
   "cell_type": "code",
   "execution_count": 29,
   "metadata": {},
   "outputs": [
    {
     "name": "stdout",
     "output_type": "stream",
     "text": [
      "[[0 1]\n",
      " [0 0]]\n",
      "\n",
      "Updated State:\n",
      "[[0.         0.        ]\n",
      " [0.70710678 0.70710678]]\n",
      "\n",
      "Updated State:\n",
      "[[0.70710678 0.        ]\n",
      " [0.70710678 0.        ]]\n"
     ]
    }
   ],
   "source": [
    "import numpy as np\n",
    "\n",
    "# Define basis gate (computational)\n",
    "zero = np.array([1,0])\n",
    "one = np.array([0,1])\n",
    "\n",
    "\n",
    "# Define ket 0 state\n",
    "state = np.tensordot(zero, one, axes=0)\n",
    "print(state)\n",
    "\n",
    "\n",
    "# Define 1-qubit quantum gate\n",
    "H = (1 / np.sqrt(2)) * np.array([[1, 1], [1, -1]])\n",
    "X = np.array([[0,1],[1,0]])\n",
    "\n",
    "\n",
    "updated_state = np.tensordot(state, H, axes=([0], [0]))\n",
    "print(\"\\nUpdated State:\")\n",
    "print(updated_state)\n",
    "\n",
    "\n",
    "updated_state_2 = np.tensordot(updated_state, X, axes=([0], [0]))\n",
    "print(\"\\nUpdated State:\")\n",
    "print(updated_state_2)"
   ]
  },
  {
   "cell_type": "code",
   "execution_count": 23,
   "metadata": {},
   "outputs": [
    {
     "name": "stdout",
     "output_type": "stream",
     "text": [
      "[[[0 1]\n",
      "  [0 0]]\n",
      "\n",
      " [[0 0]\n",
      "  [0 0]]]\n",
      "[[[0.         0.        ]\n",
      "  [0.70710678 0.70710678]]\n",
      "\n",
      " [[0.         0.        ]\n",
      "  [0.         0.        ]]]\n"
     ]
    }
   ],
   "source": [
    "state = np.tensordot(np.tensordot(zero, zero, axes=0), one, axes=0)\n",
    "print(state)\n",
    "\n",
    "updated_state = np.tensordot(state, H, axes=([0],[0]))\n",
    "print(updated_state)"
   ]
  },
  {
   "cell_type": "code",
   "execution_count": 25,
   "metadata": {},
   "outputs": [
    {
     "data": {
      "text/plain": [
       "array([[0, 1],\n",
       "       [0, 0]])"
      ]
     },
     "execution_count": 25,
     "metadata": {},
     "output_type": "execute_result"
    }
   ],
   "source": [
    "psi = np.array([0,1,0,0]).reshape(2,2)\n",
    "psi"
   ]
  },
  {
   "cell_type": "code",
   "execution_count": 27,
   "metadata": {},
   "outputs": [
    {
     "data": {
      "text/plain": [
       "array([[0, 0],\n",
       "       [0, 1]])"
      ]
     },
     "execution_count": 27,
     "metadata": {},
     "output_type": "execute_result"
    }
   ],
   "source": [
    "result = np.tensordot(X, psi, axes=(1, 0))\n",
    "result"
   ]
  },
  {
   "cell_type": "code",
   "execution_count": 28,
   "metadata": {},
   "outputs": [
    {
     "data": {
      "text/plain": [
       "array([[1, 0],\n",
       "       [0, 0]])"
      ]
     },
     "execution_count": 28,
     "metadata": {},
     "output_type": "execute_result"
    }
   ],
   "source": [
    "result = np.tensordot(psi, X, axes=(1, 0))\n",
    "result"
   ]
  },
  {
   "cell_type": "markdown",
   "metadata": {},
   "source": [
    "# Three Qubit"
   ]
  },
  {
   "cell_type": "code",
   "execution_count": 46,
   "metadata": {},
   "outputs": [
    {
     "data": {
      "text/plain": [
       "array([[[0, 1],\n",
       "        [0, 0]],\n",
       "\n",
       "       [[0, 0],\n",
       "        [0, 0]]])"
      ]
     },
     "execution_count": 46,
     "metadata": {},
     "output_type": "execute_result"
    }
   ],
   "source": [
    "tqs = np.tensordot(np.tensordot(zero, zero, axes=0), one, axes=0)\n",
    "tqs"
   ]
  },
  {
   "cell_type": "code",
   "execution_count": 99,
   "metadata": {},
   "outputs": [
    {
     "name": "stdout",
     "output_type": "stream",
     "text": [
      "Three-qubit state: \n"
     ]
    },
    {
     "data": {
      "text/plain": [
       "array([[[0, 0],\n",
       "        [0, 0]],\n",
       "\n",
       "       [[0, 0],\n",
       "        [0, 1]]])"
      ]
     },
     "execution_count": 99,
     "metadata": {},
     "output_type": "execute_result"
    }
   ],
   "source": [
    "import numpy as np\n",
    "\n",
    "# Define the basis states for a single qubit\n",
    "ket_0 = np.array([1, 0])\n",
    "ket_1 = np.array([0, 1])\n",
    "\n",
    "# Define a function to compute the tensor product for n qubits\n",
    "def tensor_product(*kets):\n",
    "    result = kets[0]\n",
    "    for ket in kets[1:]:\n",
    "        result = np.tensordot(result, ket, axes=0)\n",
    "        # result = result.flatten()  # Flatten to maintain a 1D array\n",
    "    return result\n",
    "\n",
    "# Example: Create the state |000⟩\n",
    "tqs = tensor_product(ket_1, ket_1, ket_1)\n",
    "\n",
    "# Print the result\n",
    "print(\"Three-qubit state: \")\n",
    "tqs"
   ]
  },
  {
   "cell_type": "markdown",
   "metadata": {},
   "source": [
    "Apply to the first qubit"
   ]
  },
  {
   "cell_type": "code",
   "execution_count": 101,
   "metadata": {},
   "outputs": [
    {
     "data": {
      "text/plain": [
       "array([[[0, 0],\n",
       "        [0, 1]],\n",
       "\n",
       "       [[0, 0],\n",
       "        [0, 0]]])"
      ]
     },
     "execution_count": 101,
     "metadata": {},
     "output_type": "execute_result"
    }
   ],
   "source": [
    "tqs_2 = tensor_product(ket_0, ket_1, ket_1)\n",
    "tqs_2"
   ]
  },
  {
   "cell_type": "code",
   "execution_count": 108,
   "metadata": {},
   "outputs": [
    {
     "data": {
      "text/plain": [
       "array([[[0, 0],\n",
       "        [0, 1]],\n",
       "\n",
       "       [[0, 0],\n",
       "        [0, 0]]])"
      ]
     },
     "execution_count": 108,
     "metadata": {},
     "output_type": "execute_result"
    }
   ],
   "source": [
    "tensor_product(ket_0, ket_1, ket_1)"
   ]
  },
  {
   "cell_type": "code",
   "execution_count": 103,
   "metadata": {},
   "outputs": [
    {
     "name": "stdout",
     "output_type": "stream",
     "text": [
      "X: [[0 1]\n",
      " [1 0]] \n",
      "\n",
      "tqs: [[[0 0]\n",
      "  [0 0]]\n",
      "\n",
      " [[0 0]\n",
      "  [0 1]]] \n",
      "\n",
      "state: [[[0 0]\n",
      "  [0 1]]\n",
      "\n",
      " [[0 0]\n",
      "  [0 0]]]\n"
     ]
    }
   ],
   "source": [
    "new_state = np.tensordot(X, tqs, axes=([1],[0]))\n",
    "print('X:', X, '\\n')\n",
    "print('tqs:', tqs, '\\n')\n",
    "print('state:', new_state)"
   ]
  },
  {
   "cell_type": "markdown",
   "metadata": {},
   "source": [
    "Apply to the second qubit"
   ]
  },
  {
   "cell_type": "code",
   "execution_count": 64,
   "metadata": {},
   "outputs": [
    {
     "name": "stdout",
     "output_type": "stream",
     "text": [
      "[[[0 0]\n",
      "  [0 1]]\n",
      "\n",
      " [[0 0]\n",
      "  [0 0]]]\n"
     ]
    }
   ],
   "source": [
    "new_state = np.tensordot(tqs, X, axes=([1],[0]))\n",
    "print(new_state)"
   ]
  },
  {
   "cell_type": "code",
   "execution_count": 57,
   "metadata": {},
   "outputs": [
    {
     "data": {
      "text/plain": [
       "array([[[0, 0],\n",
       "        [0, 1]],\n",
       "\n",
       "       [[0, 0],\n",
       "        [0, 0]]])"
      ]
     },
     "execution_count": 57,
     "metadata": {},
     "output_type": "execute_result"
    }
   ],
   "source": [
    "tqs_3 = tensor_product(ket_0, ket_1, ket_1)\n",
    "tqs_3"
   ]
  },
  {
   "cell_type": "markdown",
   "metadata": {},
   "source": [
    "Apply to the third qubit"
   ]
  },
  {
   "cell_type": "code",
   "execution_count": 59,
   "metadata": {},
   "outputs": [
    {
     "name": "stdout",
     "output_type": "stream",
     "text": [
      "[[[1 0]\n",
      "  [0 0]]\n",
      "\n",
      " [[0 0]\n",
      "  [0 0]]]\n"
     ]
    }
   ],
   "source": [
    "new_state = np.tensordot(tqs, X, axes=([2], [0]))\n",
    "print(new_state)"
   ]
  },
  {
   "cell_type": "code",
   "execution_count": 60,
   "metadata": {},
   "outputs": [
    {
     "data": {
      "text/plain": [
       "array([[[1, 0],\n",
       "        [0, 0]],\n",
       "\n",
       "       [[0, 0],\n",
       "        [0, 0]]])"
      ]
     },
     "execution_count": 60,
     "metadata": {},
     "output_type": "execute_result"
    }
   ],
   "source": [
    "tqs_4 = tensor_product(ket_0, ket_0, ket_0)\n",
    "tqs_4"
   ]
  },
  {
   "cell_type": "markdown",
   "metadata": {},
   "source": [
    "### Representation of 3D tensor"
   ]
  },
  {
   "cell_type": "markdown",
   "metadata": {},
   "source": [
    "initial state"
   ]
  },
  {
   "cell_type": "code",
   "execution_count": 74,
   "metadata": {},
   "outputs": [
    {
     "name": "stdout",
     "output_type": "stream",
     "text": [
      "[[[0. 0.]\n",
      "  [0. 0.]]\n",
      "\n",
      " [[0. 0.]\n",
      "  [0. 0.]]]\n",
      "\n",
      " [[[1. 0.]\n",
      "  [0. 0.]]\n",
      "\n",
      " [[0. 0.]\n",
      "  [0. 0.]]]\n"
     ]
    }
   ],
   "source": [
    "import numpy as np\n",
    "\n",
    "# Initial state |000⟩ represented as a tensor of shape (2, 2, 2)\n",
    "# The tensor has dimensions: (First Qubit, Second Qubit, Third Qubit)\n",
    "# The state |000⟩ means all qubits are in the |0⟩ state.\n",
    "\n",
    "# Initialize the tensor with zeros\n",
    "reshaped_state = np.zeros((2, 2, 2))\n",
    "print(reshaped_state)\n",
    "\n",
    "# Set the |000⟩ state to 1\n",
    "reshaped_state[0, 0, 0] = 1  # This corresponds to |000⟩\n",
    "\n",
    "print('\\n', reshaped_state)"
   ]
  },
  {
   "cell_type": "markdown",
   "metadata": {},
   "source": [
    "apply X to the first qubit"
   ]
  },
  {
   "cell_type": "code",
   "execution_count": 70,
   "metadata": {},
   "outputs": [
    {
     "name": "stdout",
     "output_type": "stream",
     "text": [
      "State after applying X to first qubit:\n",
      "[[[0. 1.]\n",
      "  [0. 0.]]\n",
      "\n",
      " [[0. 0.]\n",
      "  [0. 0.]]]\n"
     ]
    }
   ],
   "source": [
    "# Define the X gate\n",
    "X_gate = np.array([[0, 1], [1, 0]])  # X gate flips |0⟩ to |1⟩ and |1⟩ to |0⟩\n",
    "\n",
    "# Apply X gate to the first qubit\n",
    "new_state_first = np.tensordot(reshaped_state, X_gate, axes=([0], [0]))\n",
    "\n",
    "print(\"State after applying X to first qubit:\")\n",
    "print(new_state_first)\n"
   ]
  },
  {
   "cell_type": "code",
   "execution_count": null,
   "metadata": {},
   "outputs": [],
   "source": []
  },
  {
   "cell_type": "markdown",
   "metadata": {},
   "source": [
    "apply X to the second qubit"
   ]
  },
  {
   "cell_type": "code",
   "execution_count": 81,
   "metadata": {},
   "outputs": [
    {
     "name": "stdout",
     "output_type": "stream",
     "text": [
      "State after applying X to second qubit:\n",
      "[[[0. 0.]\n",
      "  [0. 0.]]\n",
      "\n",
      " [[0. 1.]\n",
      "  [0. 0.]]]\n"
     ]
    }
   ],
   "source": [
    "# Apply X gate to the second qubit\n",
    "new_state_second = np.tensordot(X_gate, new_state_first, axes=([1], [0]))\n",
    "\n",
    "print(\"State after applying X to second qubit:\")\n",
    "print(new_state_second)\n"
   ]
  },
  {
   "cell_type": "markdown",
   "metadata": {},
   "source": [
    "apply X to the third qubit"
   ]
  },
  {
   "cell_type": "code",
   "execution_count": 90,
   "metadata": {},
   "outputs": [
    {
     "name": "stdout",
     "output_type": "stream",
     "text": [
      "State after applying X to third qubit:\n",
      "[[[0. 0.]\n",
      "  [0. 0.]]\n",
      "\n",
      " [[0. 0.]\n",
      "  [0. 1.]]]\n"
     ]
    }
   ],
   "source": [
    "# Apply X gate to the third qubit\n",
    "new_state_third = np.tensordot(new_state_second, X_gate, axes=([1], [0]))\n",
    "\n",
    "print(\"State after applying X to third qubit:\")\n",
    "print(new_state_third)"
   ]
  },
  {
   "cell_type": "markdown",
   "metadata": {},
   "source": [
    "N qubit state"
   ]
  },
  {
   "cell_type": "code",
   "execution_count": 92,
   "metadata": {},
   "outputs": [
    {
     "name": "stdout",
     "output_type": "stream",
     "text": [
      "Initial state: [1. 0. 0. 0.]\n",
      "New state after applying X gate to qubit 0: [0. 1. 1. 0.]\n"
     ]
    }
   ],
   "source": [
    "import numpy as np\n",
    "\n",
    "# Define the X gate (NOT gate)\n",
    "X = np.array([[0, 1], [1, 0]])\n",
    "\n",
    "def apply_x_gate_with_tensordot(state, qubit_index):\n",
    "    # Total number of qubits\n",
    "    N = int(np.log2(state.size))\n",
    "    \n",
    "    # Reshape state into an N-dimensional array\n",
    "    state_reshaped = state.reshape([2] * N)\n",
    "    \n",
    "    # Create an identity matrix for other qubits\n",
    "    identity = np.eye(2)\n",
    "    \n",
    "    # Create a list of operators: X for the target qubit, identity for others\n",
    "    operators = [identity] * N\n",
    "    operators[qubit_index] = X\n",
    "    \n",
    "    # Combine operators using tensordot\n",
    "    combined_operator = operators[0]\n",
    "    for op in operators[1:]:\n",
    "        combined_operator = np.tensordot(combined_operator, op, axes=0)\n",
    "\n",
    "    # Reshape the combined operator for multiplication\n",
    "    combined_operator = combined_operator.reshape((2**N, 2**N))\n",
    "    \n",
    "    # Apply the combined operator to the state\n",
    "    new_state = np.dot(combined_operator, state)\n",
    "    \n",
    "    return new_state\n",
    "\n",
    "# Define a sample N-qubit state |000...0> for N=3\n",
    "N = 2\n",
    "initial_state = np.zeros(2 ** N)\n",
    "initial_state[0] = 1  # |000> state\n",
    "\n",
    "# Apply the X gate to the first qubit (qubit_index = 0)\n",
    "new_state = apply_x_gate_with_tensordot(initial_state, 0)\n",
    "\n",
    "print(\"Initial state:\", initial_state)\n",
    "print(\"New state after applying X gate to qubit 0:\", new_state)\n"
   ]
  },
  {
   "cell_type": "code",
   "execution_count": 93,
   "metadata": {},
   "outputs": [
    {
     "name": "stdout",
     "output_type": "stream",
     "text": [
      "Initial State Tensor:\n",
      "[[1. 0.]\n",
      " [0. 0.]]\n",
      "State after applying H gate on qubit 0:\n",
      "[[0.70710678 0.        ]\n",
      " [0.70710678 0.        ]]\n",
      "State after applying X gate on qubit 1:\n",
      "[[0.         0.        ]\n",
      " [0.70710678 0.70710678]]\n"
     ]
    },
    {
     "ename": "ValueError",
     "evalue": "cannot reshape array of size 4 into shape (4,4)",
     "output_type": "error",
     "traceback": [
      "\u001b[0;31m---------------------------------------------------------------------------\u001b[0m",
      "\u001b[0;31mValueError\u001b[0m                                Traceback (most recent call last)",
      "Cell \u001b[0;32mIn[93], line 78\u001b[0m\n\u001b[1;32m     75\u001b[0m     \u001b[38;5;28mprint\u001b[39m(state)\n\u001b[1;32m     77\u001b[0m \u001b[38;5;66;03m# Run the quantum circuit for 2 qubits\u001b[39;00m\n\u001b[0;32m---> 78\u001b[0m \u001b[43mquantum_circuit\u001b[49m\u001b[43m(\u001b[49m\u001b[38;5;241;43m2\u001b[39;49m\u001b[43m)\u001b[49m\n",
      "Cell \u001b[0;32mIn[93], line 73\u001b[0m, in \u001b[0;36mquantum_circuit\u001b[0;34m(n)\u001b[0m\n\u001b[1;32m     70\u001b[0m \u001b[38;5;28mprint\u001b[39m(state)\n\u001b[1;32m     72\u001b[0m \u001b[38;5;66;03m# Step 4: Apply CNOT gate (control qubit 0, target qubit 1)\u001b[39;00m\n\u001b[0;32m---> 73\u001b[0m state \u001b[38;5;241m=\u001b[39m \u001b[43mapply_two_qubit_gate\u001b[49m\u001b[43m(\u001b[49m\u001b[43mstate\u001b[49m\u001b[43m,\u001b[49m\u001b[43m \u001b[49m\u001b[43mCNOT\u001b[49m\u001b[43m,\u001b[49m\u001b[43m \u001b[49m\u001b[38;5;241;43m0\u001b[39;49m\u001b[43m,\u001b[49m\u001b[43m \u001b[49m\u001b[38;5;241;43m1\u001b[39;49m\u001b[43m)\u001b[49m\n\u001b[1;32m     74\u001b[0m \u001b[38;5;28mprint\u001b[39m(\u001b[38;5;124m\"\u001b[39m\u001b[38;5;124mState after applying CNOT (control: qubit 0, target: qubit 1):\u001b[39m\u001b[38;5;124m\"\u001b[39m)\n\u001b[1;32m     75\u001b[0m \u001b[38;5;28mprint\u001b[39m(state)\n",
      "Cell \u001b[0;32mIn[93], line 42\u001b[0m, in \u001b[0;36mapply_two_qubit_gate\u001b[0;34m(state_tensor, gate_matrix, control_qubit, target_qubit)\u001b[0m\n\u001b[1;32m     39\u001b[0m new_shape[control_qubit] \u001b[38;5;241m=\u001b[39m gate_matrix\u001b[38;5;241m.\u001b[39mshape[\u001b[38;5;241m0\u001b[39m]\n\u001b[1;32m     40\u001b[0m new_shape[target_qubit] \u001b[38;5;241m=\u001b[39m gate_matrix\u001b[38;5;241m.\u001b[39mshape[\u001b[38;5;241m1\u001b[39m]\n\u001b[0;32m---> 42\u001b[0m reshaped_state \u001b[38;5;241m=\u001b[39m \u001b[43mstate_tensor\u001b[49m\u001b[38;5;241;43m.\u001b[39;49m\u001b[43mreshape\u001b[49m\u001b[43m(\u001b[49m\u001b[43mnew_shape\u001b[49m\u001b[43m)\u001b[49m\n\u001b[1;32m     44\u001b[0m \u001b[38;5;66;03m# Apply the CNOT gate\u001b[39;00m\n\u001b[1;32m     45\u001b[0m result \u001b[38;5;241m=\u001b[39m np\u001b[38;5;241m.\u001b[39mtensordot(gate_matrix, reshaped_state, axes\u001b[38;5;241m=\u001b[39m([\u001b[38;5;241m1\u001b[39m, \u001b[38;5;241m0\u001b[39m], [control_qubit, target_qubit]))\n",
      "\u001b[0;31mValueError\u001b[0m: cannot reshape array of size 4 into shape (4,4)"
     ]
    }
   ],
   "source": [
    "import numpy as np\n",
    "\n",
    "# Define the 1-qubit gates\n",
    "X = np.array([[0, 1],\n",
    "              [1, 0]])  # X gate (NOT)\n",
    "\n",
    "H = (1/np.sqrt(2)) * np.array([[1, 1],\n",
    "                                [1, -1]])  # Hadamard gate\n",
    "\n",
    "# Define the 2-qubit gate: CNOT (control on first qubit)\n",
    "CNOT = np.array([[1, 0, 0, 0],\n",
    "                 [0, 1, 0, 0],\n",
    "                 [0, 0, 0, 1],\n",
    "                 [0, 0, 1, 0]])  # CNOT gate\n",
    "\n",
    "# Function to create an initial state (e.g., |00..0>)\n",
    "def create_initial_state(n):\n",
    "    return np.zeros((2,) * n)  # Tensor of shape (2, 2, ..., 2) for n qubits\n",
    "\n",
    "# Function to apply a gate\n",
    "def apply_gate(state_tensor, gate_matrix, qubit_index):\n",
    "    # Reshape state tensor to match the gate for the specified qubit\n",
    "    new_shape = list(state_tensor.shape)\n",
    "    new_shape[qubit_index] = gate_matrix.shape[0]\n",
    "    reshaped_state = state_tensor.reshape(new_shape)\n",
    "    \n",
    "    # Apply the gate using tensordot\n",
    "    result = np.tensordot(gate_matrix, reshaped_state, axes=([1], [qubit_index]))\n",
    "    \n",
    "    # Reshape back to the original tensor shape\n",
    "    result_shape = list(state_tensor.shape)\n",
    "    result_shape[qubit_index] = gate_matrix.shape[0]\n",
    "    return result.reshape(result_shape)\n",
    "\n",
    "# Function to apply a 2-qubit gate\n",
    "def apply_two_qubit_gate(state_tensor, gate_matrix, control_qubit, target_qubit):\n",
    "    # Reshape state tensor\n",
    "    new_shape = list(state_tensor.shape)\n",
    "    new_shape[control_qubit] = gate_matrix.shape[0]\n",
    "    new_shape[target_qubit] = gate_matrix.shape[1]\n",
    "    \n",
    "    reshaped_state = state_tensor.reshape(new_shape)\n",
    "    \n",
    "    # Apply the CNOT gate\n",
    "    result = np.tensordot(gate_matrix, reshaped_state, axes=([1, 0], [control_qubit, target_qubit]))\n",
    "    \n",
    "    # Reshape back to the original tensor shape\n",
    "    result_shape = list(state_tensor.shape)\n",
    "    result_shape[control_qubit] = gate_matrix.shape[0]\n",
    "    result_shape[target_qubit] = gate_matrix.shape[1]\n",
    "    return result.reshape(result_shape)\n",
    "\n",
    "# Main quantum circuit implementation\n",
    "def quantum_circuit(n):\n",
    "    # Step 1: Initialize the state |0...0>\n",
    "    state = create_initial_state(n)\n",
    "    state[tuple([0] * n)] = 1  # Set initial state |000...0>\n",
    "\n",
    "    print(\"Initial State Tensor:\")\n",
    "    print(state)\n",
    "\n",
    "    # Step 2: Apply H gate to the first qubit\n",
    "    state = apply_gate(state, H, 0)\n",
    "    print(\"State after applying H gate on qubit 0:\")\n",
    "    print(state)\n",
    "\n",
    "    # Step 3: Apply X gate to the second qubit\n",
    "    state = apply_gate(state, X, 1)\n",
    "    print(\"State after applying X gate on qubit 1:\")\n",
    "    print(state)\n",
    "\n",
    "    # Step 4: Apply CNOT gate (control qubit 0, target qubit 1)\n",
    "    state = apply_two_qubit_gate(state, CNOT, 0, 1)\n",
    "    print(\"State after applying CNOT (control: qubit 0, target: qubit 1):\")\n",
    "    print(state)\n",
    "\n",
    "# Run the quantum circuit for 2 qubits\n",
    "quantum_circuit(2)\n"
   ]
  }
 ],
 "metadata": {
  "kernelspec": {
   "display_name": "quantum-dev-2",
   "language": "python",
   "name": "python3"
  },
  "language_info": {
   "codemirror_mode": {
    "name": "ipython",
    "version": 3
   },
   "file_extension": ".py",
   "mimetype": "text/x-python",
   "name": "python",
   "nbconvert_exporter": "python",
   "pygments_lexer": "ipython3",
   "version": "3.11.8"
  }
 },
 "nbformat": 4,
 "nbformat_minor": 2
}
